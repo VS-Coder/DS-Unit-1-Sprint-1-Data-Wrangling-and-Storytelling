{
  "nbformat": 4,
  "nbformat_minor": 0,
  "metadata": {
    "colab": {
      "name": "Michael_Davis_LS_DS_114_Make_Explanatory_Visualizations_Assignment.ipynb",
      "provenance": [],
      "collapsed_sections": [],
      "toc_visible": true,
      "include_colab_link": true
    },
    "language_info": {
      "codemirror_mode": {
        "name": "ipython",
        "version": 3
      },
      "file_extension": ".py",
      "mimetype": "text/x-python",
      "name": "python",
      "nbconvert_exporter": "python",
      "pygments_lexer": "ipython3",
      "version": "3.7.1"
    },
    "kernelspec": {
      "display_name": "Python 3",
      "language": "python",
      "name": "python3"
    }
  },
  "cells": [
    {
      "cell_type": "markdown",
      "metadata": {
        "id": "view-in-github",
        "colab_type": "text"
      },
      "source": [
        "<a href=\"https://colab.research.google.com/github/VS-Coder/DS-Unit-1-Sprint-1-Data-Wrangling-and-Storytelling/blob/master/Michael_Davis_LS_DS_114_Make_Explanatory_Visualizations_Assignment.ipynb\" target=\"_parent\"><img src=\"https://colab.research.google.com/assets/colab-badge.svg\" alt=\"Open In Colab\"/></a>"
      ]
    },
    {
      "cell_type": "markdown",
      "metadata": {
        "colab_type": "text",
        "id": "NMEswXWh9mqw"
      },
      "source": [
        "Lambda School Data Science\n",
        "\n",
        "*Unit 1, Sprint 1, Module 4*\n",
        "\n",
        "---\n",
        "\n",
        "# ASSIGNMENT\n",
        "\n",
        "### 1) Replicate the lesson code. I recommend that you [do not copy-paste](https://docs.google.com/document/d/1ubOw9B3Hfip27hF2ZFnW3a3z9xAgrUDRReOEo-FHCVs/edit).\n",
        "\n",
        "Get caught up to where we got our example in class and then try and take things further. How close to \"pixel perfect\" can you make the lecture graph?\n",
        "\n",
        "Once you have something that you're proud of, share your graph in the cohort channel and move on to the second exercise.\n",
        "\n",
        "### 2) Reproduce another example from [FiveThityEight's shared data repository](https://data.fivethirtyeight.com/).\n",
        "\n",
        "**WARNING**: There are a lot of very custom graphs and tables at the above link. I **highly** recommend not trying to reproduce any that look like a table of values or something really different from the graph types that we are already familiar with. Search through the posts until you find a graph type that you are more or less familiar with: histogram, bar chart, stacked bar chart, line chart, [seaborn relplot](https://seaborn.pydata.org/generated/seaborn.relplot.html), etc. Recreating some of the graphics that 538 uses would be a lot easier in Adobe photoshop/illustrator than with matplotlib. \n",
        "\n",
        "- If you put in some time to find a graph that looks \"easy\" to replicate you'll probably find that it's not as easy as you thought. \n",
        "\n",
        "- If you start with a graph that looks hard to replicate you'll probably run up against a brick wall and be disappointed with your afternoon.\n",
        "\n",
        "\n",
        "\n",
        "\n",
        "\n",
        "\n",
        "\n",
        "\n",
        "\n",
        "\n"
      ]
    },
    {
      "cell_type": "code",
      "metadata": {
        "id": "7SY1ZHawyZvz",
        "colab_type": "code",
        "colab": {
          "base_uri": "https://localhost:8080/",
          "height": 71
        },
        "outputId": "5e1fd4f1-a436-4356-dbfa-934a887aa288"
      },
      "source": [
        "# Main import statements.\n",
        "import pandas as pd\n",
        "import numpy as np\n",
        "import seaborn as sns\n",
        "import matplotlib.pyplot as plt"
      ],
      "execution_count": 2,
      "outputs": [
        {
          "output_type": "stream",
          "text": [
            "/usr/local/lib/python3.6/dist-packages/statsmodels/tools/_testing.py:19: FutureWarning: pandas.util.testing is deprecated. Use the functions in the public API at pandas.testing instead.\n",
            "  import pandas.util.testing as tm\n"
          ],
          "name": "stderr"
        }
      ]
    },
    {
      "cell_type": "code",
      "metadata": {
        "id": "Br2p_3-8T1FM",
        "colab_type": "code",
        "outputId": "43447c80-8106-4b16-e2d3-7fa3d617213a",
        "colab": {
          "base_uri": "https://localhost:8080/",
          "height": 459
        }
      },
      "source": [
        "plt.style.available"
      ],
      "execution_count": 3,
      "outputs": [
        {
          "output_type": "execute_result",
          "data": {
            "text/plain": [
              "['Solarize_Light2',\n",
              " '_classic_test_patch',\n",
              " 'bmh',\n",
              " 'classic',\n",
              " 'dark_background',\n",
              " 'fast',\n",
              " 'fivethirtyeight',\n",
              " 'ggplot',\n",
              " 'grayscale',\n",
              " 'seaborn',\n",
              " 'seaborn-bright',\n",
              " 'seaborn-colorblind',\n",
              " 'seaborn-dark',\n",
              " 'seaborn-dark-palette',\n",
              " 'seaborn-darkgrid',\n",
              " 'seaborn-deep',\n",
              " 'seaborn-muted',\n",
              " 'seaborn-notebook',\n",
              " 'seaborn-paper',\n",
              " 'seaborn-pastel',\n",
              " 'seaborn-poster',\n",
              " 'seaborn-talk',\n",
              " 'seaborn-ticks',\n",
              " 'seaborn-white',\n",
              " 'seaborn-whitegrid',\n",
              " 'tableau-colorblind10']"
            ]
          },
          "metadata": {
            "tags": []
          },
          "execution_count": 3
        }
      ]
    },
    {
      "cell_type": "code",
      "metadata": {
        "id": "a05k1pM0T6IJ",
        "colab_type": "code",
        "colab": {}
      },
      "source": [
        "# Selecting the fast plotting style to use moving forward.\n",
        "plt.style.use('fast')"
      ],
      "execution_count": 0,
      "outputs": []
    },
    {
      "cell_type": "code",
      "metadata": {
        "id": "6y4s0XTxT6S8",
        "colab_type": "code",
        "outputId": "d47132f2-febd-46be-92a7-55e13ac2f9b4",
        "colab": {
          "base_uri": "https://localhost:8080/",
          "height": 204
        }
      },
      "source": [
        "# Reading in the titanic dataset\n",
        "# and displaying the first five records from the dataset.\n",
        "url = 'https://raw.githubusercontent.com/austinlasseter/pandas_visualization/master/data/titanic.csv'\n",
        "titanic = pd.read_csv(url)\n",
        "titanic.head()"
      ],
      "execution_count": 5,
      "outputs": [
        {
          "output_type": "execute_result",
          "data": {
            "text/html": [
              "<div>\n",
              "<style scoped>\n",
              "    .dataframe tbody tr th:only-of-type {\n",
              "        vertical-align: middle;\n",
              "    }\n",
              "\n",
              "    .dataframe tbody tr th {\n",
              "        vertical-align: top;\n",
              "    }\n",
              "\n",
              "    .dataframe thead th {\n",
              "        text-align: right;\n",
              "    }\n",
              "</style>\n",
              "<table border=\"1\" class=\"dataframe\">\n",
              "  <thead>\n",
              "    <tr style=\"text-align: right;\">\n",
              "      <th></th>\n",
              "      <th>Survived</th>\n",
              "      <th>Pclass</th>\n",
              "      <th>Sex</th>\n",
              "      <th>Age</th>\n",
              "      <th>Fare</th>\n",
              "      <th>Embarked</th>\n",
              "    </tr>\n",
              "  </thead>\n",
              "  <tbody>\n",
              "    <tr>\n",
              "      <th>0</th>\n",
              "      <td>0</td>\n",
              "      <td>3</td>\n",
              "      <td>male</td>\n",
              "      <td>22.0</td>\n",
              "      <td>7.2500</td>\n",
              "      <td>Southampton</td>\n",
              "    </tr>\n",
              "    <tr>\n",
              "      <th>1</th>\n",
              "      <td>1</td>\n",
              "      <td>1</td>\n",
              "      <td>female</td>\n",
              "      <td>38.0</td>\n",
              "      <td>71.2833</td>\n",
              "      <td>Cherbourg</td>\n",
              "    </tr>\n",
              "    <tr>\n",
              "      <th>2</th>\n",
              "      <td>1</td>\n",
              "      <td>3</td>\n",
              "      <td>female</td>\n",
              "      <td>26.0</td>\n",
              "      <td>7.9250</td>\n",
              "      <td>Southampton</td>\n",
              "    </tr>\n",
              "    <tr>\n",
              "      <th>3</th>\n",
              "      <td>1</td>\n",
              "      <td>1</td>\n",
              "      <td>female</td>\n",
              "      <td>35.0</td>\n",
              "      <td>53.1000</td>\n",
              "      <td>Southampton</td>\n",
              "    </tr>\n",
              "    <tr>\n",
              "      <th>4</th>\n",
              "      <td>0</td>\n",
              "      <td>3</td>\n",
              "      <td>male</td>\n",
              "      <td>35.0</td>\n",
              "      <td>8.0500</td>\n",
              "      <td>Southampton</td>\n",
              "    </tr>\n",
              "  </tbody>\n",
              "</table>\n",
              "</div>"
            ],
            "text/plain": [
              "   Survived  Pclass     Sex   Age     Fare     Embarked\n",
              "0         0       3    male  22.0   7.2500  Southampton\n",
              "1         1       1  female  38.0  71.2833    Cherbourg\n",
              "2         1       3  female  26.0   7.9250  Southampton\n",
              "3         1       1  female  35.0  53.1000  Southampton\n",
              "4         0       3    male  35.0   8.0500  Southampton"
            ]
          },
          "metadata": {
            "tags": []
          },
          "execution_count": 5
        }
      ]
    },
    {
      "cell_type": "code",
      "metadata": {
        "id": "7omij_bMT6by",
        "colab_type": "code",
        "outputId": "eb759b65-8844-44a4-93a8-4b2bd5b1c715",
        "colab": {
          "base_uri": "https://localhost:8080/",
          "height": 85
        }
      },
      "source": [
        "# Displaying the counts from the Passenger Class column\n",
        "# of the dataset and sorting highest to lowest(1st class to 3rd class).\n",
        "titanic['Pclass'].value_counts().sort_index()"
      ],
      "execution_count": 6,
      "outputs": [
        {
          "output_type": "execute_result",
          "data": {
            "text/plain": [
              "1    184\n",
              "2    173\n",
              "3    355\n",
              "Name: Pclass, dtype: int64"
            ]
          },
          "metadata": {
            "tags": []
          },
          "execution_count": 6
        }
      ]
    },
    {
      "cell_type": "code",
      "metadata": {
        "id": "Sc85-qtTUigm",
        "colab_type": "code",
        "outputId": "54e360b5-b766-4e34-ae47-6d6cb2398609",
        "colab": {
          "base_uri": "https://localhost:8080/",
          "height": 204
        }
      },
      "source": [
        "# Converting the string values to categories.\n",
        "# Making a new column named cabin_class.\n",
        "titanic['cabin_class'] = titanic['Pclass'].map({1: 'first', 2: 'second', 3: 'third'})\n",
        "titanic.sample(5)"
      ],
      "execution_count": 7,
      "outputs": [
        {
          "output_type": "execute_result",
          "data": {
            "text/html": [
              "<div>\n",
              "<style scoped>\n",
              "    .dataframe tbody tr th:only-of-type {\n",
              "        vertical-align: middle;\n",
              "    }\n",
              "\n",
              "    .dataframe tbody tr th {\n",
              "        vertical-align: top;\n",
              "    }\n",
              "\n",
              "    .dataframe thead th {\n",
              "        text-align: right;\n",
              "    }\n",
              "</style>\n",
              "<table border=\"1\" class=\"dataframe\">\n",
              "  <thead>\n",
              "    <tr style=\"text-align: right;\">\n",
              "      <th></th>\n",
              "      <th>Survived</th>\n",
              "      <th>Pclass</th>\n",
              "      <th>Sex</th>\n",
              "      <th>Age</th>\n",
              "      <th>Fare</th>\n",
              "      <th>Embarked</th>\n",
              "      <th>cabin_class</th>\n",
              "    </tr>\n",
              "  </thead>\n",
              "  <tbody>\n",
              "    <tr>\n",
              "      <th>10</th>\n",
              "      <td>1</td>\n",
              "      <td>1</td>\n",
              "      <td>female</td>\n",
              "      <td>58.0</td>\n",
              "      <td>26.550</td>\n",
              "      <td>Southampton</td>\n",
              "      <td>first</td>\n",
              "    </tr>\n",
              "    <tr>\n",
              "      <th>419</th>\n",
              "      <td>0</td>\n",
              "      <td>2</td>\n",
              "      <td>male</td>\n",
              "      <td>23.0</td>\n",
              "      <td>11.500</td>\n",
              "      <td>Southampton</td>\n",
              "      <td>second</td>\n",
              "    </tr>\n",
              "    <tr>\n",
              "      <th>180</th>\n",
              "      <td>0</td>\n",
              "      <td>3</td>\n",
              "      <td>male</td>\n",
              "      <td>22.0</td>\n",
              "      <td>9.350</td>\n",
              "      <td>Southampton</td>\n",
              "      <td>third</td>\n",
              "    </tr>\n",
              "    <tr>\n",
              "      <th>618</th>\n",
              "      <td>1</td>\n",
              "      <td>3</td>\n",
              "      <td>female</td>\n",
              "      <td>5.0</td>\n",
              "      <td>12.475</td>\n",
              "      <td>Southampton</td>\n",
              "      <td>third</td>\n",
              "    </tr>\n",
              "    <tr>\n",
              "      <th>458</th>\n",
              "      <td>1</td>\n",
              "      <td>2</td>\n",
              "      <td>female</td>\n",
              "      <td>25.0</td>\n",
              "      <td>30.000</td>\n",
              "      <td>Southampton</td>\n",
              "      <td>second</td>\n",
              "    </tr>\n",
              "  </tbody>\n",
              "</table>\n",
              "</div>"
            ],
            "text/plain": [
              "     Survived  Pclass     Sex   Age    Fare     Embarked cabin_class\n",
              "10          1       1  female  58.0  26.550  Southampton       first\n",
              "419         0       2    male  23.0  11.500  Southampton      second\n",
              "180         0       3    male  22.0   9.350  Southampton       third\n",
              "618         1       3  female   5.0  12.475  Southampton       third\n",
              "458         1       2  female  25.0  30.000  Southampton      second"
            ]
          },
          "metadata": {
            "tags": []
          },
          "execution_count": 7
        }
      ]
    },
    {
      "cell_type": "code",
      "metadata": {
        "id": "0IU5eKU3Uian",
        "colab_type": "code",
        "outputId": "e6164d4f-dd77-4d25-fa32-ae2442a4e66f",
        "colab": {
          "base_uri": "https://localhost:8080/",
          "height": 267
        }
      },
      "source": [
        " # Display the Fare column using a histograph.\n",
        " titanic['Fare'].plot(kind='hist');"
      ],
      "execution_count": 8,
      "outputs": [
        {
          "output_type": "display_data",
          "data": {
            "image/png": "[encoded data removed]",
            "text/plain": [
              "<Figure size 432x288 with 1 Axes>"
            ]
          },
          "metadata": {
            "tags": [],
            "needs_background": "light"
          }
        }
      ]
    },
    {
      "cell_type": "code",
      "metadata": {
        "id": "T3ofuNKDT6k-",
        "colab_type": "code",
        "colab": {}
      },
      "source": [
        "# Removing the outliers from the end of the graph.\n",
        "titanic = titanic[titanic['Fare']<500]"
      ],
      "execution_count": 0,
      "outputs": []
    },
    {
      "cell_type": "code",
      "metadata": {
        "id": "Bnuhab_1T6uW",
        "colab_type": "code",
        "outputId": "c894ee4f-9e2e-4e58-92d6-573b1b8b2eab",
        "colab": {
          "base_uri": "https://localhost:8080/",
          "height": 265
        }
      },
      "source": [
        "titanic['Fare'].plot(kind='hist', color='darkblue', bins=20);"
      ],
      "execution_count": 10,
      "outputs": [
        {
          "output_type": "display_data",
          "data": {
            "image/png": "[encoded data removed]",
            "text/plain": [
              "<Figure size 432x288 with 1 Axes>"
            ]
          },
          "metadata": {
            "tags": [],
            "needs_background": "light"
          }
        }
      ]
    },
    {
      "cell_type": "code",
      "metadata": {
        "id": "HD9wf5L-WaVF",
        "colab_type": "code",
        "outputId": "be581c09-6ef1-45e2-f34b-28d2cb4e9af1",
        "colab": {
          "base_uri": "https://localhost:8080/",
          "height": 170
        }
      },
      "source": [
        "# Describe the Fare vaiable.\n",
        "titanic['Fare'].describe()"
      ],
      "execution_count": 11,
      "outputs": [
        {
          "output_type": "execute_result",
          "data": {
            "text/plain": [
              "count    709.000000\n",
              "mean      32.545692\n",
              "std       42.931277\n",
              "min        0.000000\n",
              "25%        8.050000\n",
              "50%       15.500000\n",
              "75%       32.320800\n",
              "max      263.000000\n",
              "Name: Fare, dtype: float64"
            ]
          },
          "metadata": {
            "tags": []
          },
          "execution_count": 11
        }
      ]
    },
    {
      "cell_type": "code",
      "metadata": {
        "id": "ERxjFBd5Wq2r",
        "colab_type": "code",
        "outputId": "76cd43c8-290e-487a-c5ef-1157786b4ff6",
        "colab": {
          "base_uri": "https://localhost:8080/",
          "height": 204
        }
      },
      "source": [
        "# Use binning to convert the variables to \n",
        "# categorical variables.\n",
        "farelabels = ['low', 'medium', 'high', 'veryhigh']\n",
        "titanic['fare_groups'] = pd.cut(titanic['Fare'],\n",
        "                                bins=[0,8,15,32,266], labels=farelabels)\n",
        "titanic[['Fare', 'fare_groups']].head()\n"
      ],
      "execution_count": 12,
      "outputs": [
        {
          "output_type": "execute_result",
          "data": {
            "text/html": [
              "<div>\n",
              "<style scoped>\n",
              "    .dataframe tbody tr th:only-of-type {\n",
              "        vertical-align: middle;\n",
              "    }\n",
              "\n",
              "    .dataframe tbody tr th {\n",
              "        vertical-align: top;\n",
              "    }\n",
              "\n",
              "    .dataframe thead th {\n",
              "        text-align: right;\n",
              "    }\n",
              "</style>\n",
              "<table border=\"1\" class=\"dataframe\">\n",
              "  <thead>\n",
              "    <tr style=\"text-align: right;\">\n",
              "      <th></th>\n",
              "      <th>Fare</th>\n",
              "      <th>fare_groups</th>\n",
              "    </tr>\n",
              "  </thead>\n",
              "  <tbody>\n",
              "    <tr>\n",
              "      <th>0</th>\n",
              "      <td>7.2500</td>\n",
              "      <td>low</td>\n",
              "    </tr>\n",
              "    <tr>\n",
              "      <th>1</th>\n",
              "      <td>71.2833</td>\n",
              "      <td>veryhigh</td>\n",
              "    </tr>\n",
              "    <tr>\n",
              "      <th>2</th>\n",
              "      <td>7.9250</td>\n",
              "      <td>low</td>\n",
              "    </tr>\n",
              "    <tr>\n",
              "      <th>3</th>\n",
              "      <td>53.1000</td>\n",
              "      <td>veryhigh</td>\n",
              "    </tr>\n",
              "    <tr>\n",
              "      <th>4</th>\n",
              "      <td>8.0500</td>\n",
              "      <td>medium</td>\n",
              "    </tr>\n",
              "  </tbody>\n",
              "</table>\n",
              "</div>"
            ],
            "text/plain": [
              "      Fare fare_groups\n",
              "0   7.2500         low\n",
              "1  71.2833    veryhigh\n",
              "2   7.9250         low\n",
              "3  53.1000    veryhigh\n",
              "4   8.0500      medium"
            ]
          },
          "metadata": {
            "tags": []
          },
          "execution_count": 12
        }
      ]
    },
    {
      "cell_type": "code",
      "metadata": {
        "id": "dn-ErmFaW6UJ",
        "colab_type": "code",
        "colab": {}
      },
      "source": [
        "fare_results = titanic['fare_groups'].value_counts().sort_index()"
      ],
      "execution_count": 0,
      "outputs": []
    },
    {
      "cell_type": "code",
      "metadata": {
        "id": "No_3rvZQYnmM",
        "colab_type": "code",
        "outputId": "2940c1a7-1448-429f-847b-14734f6d3398",
        "colab": {
          "base_uri": "https://localhost:8080/",
          "height": 299
        }
      },
      "source": [
        "fare_results.plot(kind='bar', color='crimson');"
      ],
      "execution_count": 14,
      "outputs": [
        {
          "output_type": "display_data",
          "data": {
            "image/png": "[encoded data removed]",
            "text/plain": [
              "<Figure size 432x288 with 1 Axes>"
            ]
          },
          "metadata": {
            "tags": [],
            "needs_background": "light"
          }
        }
      ]
    },
    {
      "cell_type": "code",
      "metadata": {
        "id": "WCVe7ZMNYoAe",
        "colab_type": "code",
        "outputId": "86f2db46-c018-4d2f-dd1a-a0050e4aba6c",
        "colab": {
          "base_uri": "https://localhost:8080/",
          "height": 264
        }
      },
      "source": [
        "# Using a historgram, display a continuous variable.\n",
        "titanic['Age'].plot(kind='hist',\n",
        "                    bins=20,\n",
        "                    figsize=(16,4),\n",
        "                    color='#0000BB');"
      ],
      "execution_count": 15,
      "outputs": [
        {
          "output_type": "display_data",
          "data": {
            "image/png": "[encoded data removed]",
            "text/plain": [
              "<Figure size 1152x288 with 1 Axes>"
            ]
          },
          "metadata": {
            "tags": [],
            "needs_background": "light"
          }
        }
      ]
    },
    {
      "cell_type": "code",
      "metadata": {
        "id": "XWyPPxXgW6x-",
        "colab_type": "code",
        "outputId": "8855cc6b-eb08-4cb4-cc62-e3bc05a1b22a",
        "colab": {
          "base_uri": "https://localhost:8080/",
          "height": 268
        }
      },
      "source": [
        "# Stack the histograms.\n",
        "titanic[titanic['Pclass']==1]['Age'].plot(kind='hist',\n",
        "                    bins=20,\n",
        "                    figsize=(16,4),\n",
        "                    color='#0000BB', alpha=0.33);\n",
        "titanic[titanic['Pclass']==2]['Age'].plot(kind='hist',\n",
        "                    bins=20,\n",
        "                    figsize=(16,4),\n",
        "                    color='#0000FF', alpha=0.33);\n",
        "titanic[titanic['Pclass']==3]['Age'].plot(kind='hist',\n",
        "                    bins=20,\n",
        "                    figsize=(16,4),\n",
        "                    color='#0000AB', alpha=0.33);"
      ],
      "execution_count": 16,
      "outputs": [
        {
          "output_type": "display_data",
          "data": {
            "image/png": "[encoded data removed]",
            "text/plain": [
              "<Figure size 1152x288 with 1 Axes>"
            ]
          },
          "metadata": {
            "tags": [],
            "needs_background": "light"
          }
        }
      ]
    },
    {
      "cell_type": "code",
      "metadata": {
        "id": "3edYy12KW7Hn",
        "colab_type": "code",
        "outputId": "5dbd31f1-468a-46b4-c8e6-9c89cb9b39b5",
        "colab": {
          "base_uri": "https://localhost:8080/",
          "height": 262
        }
      },
      "source": [
        "# Using KDE will display this better.\n",
        "titanic[titanic['Pclass']==1]['Age'].plot(kind='density',\n",
        "                    figsize=(16,4),\n",
        "                    color='#0000BB', alpha=0.33);\n",
        "titanic[titanic['Pclass']==2]['Age'].plot(kind='density',\n",
        "                    figsize=(16,4),\n",
        "                    color='#0000FF', alpha=0.33);\n",
        "titanic[titanic['Pclass']==3]['Age'].plot(kind='density',\n",
        "                    figsize=(16,4),\n",
        "                    color='#0000AB', alpha=0.33);"
      ],
      "execution_count": 17,
      "outputs": [
        {
          "output_type": "display_data",
          "data": {
            "image/png": "[encoded data removed]",
            "text/plain": [
              "<Figure size 1152x288 with 1 Axes>"
            ]
          },
          "metadata": {
            "tags": [],
            "needs_background": "light"
          }
        }
      ]
    },
    {
      "cell_type": "code",
      "metadata": {
        "id": "9lNfGP8BWrOw",
        "colab_type": "code",
        "outputId": "a7f2efeb-d3b8-4283-82f1-e07f1fd3a9af",
        "colab": {
          "base_uri": "https://localhost:8080/",
          "height": 316
        }
      },
      "source": [
        "# Add a splash of color to a bar chart.\n",
        "titanic['fare_groups'].value_counts().sort_index().plot(kind='bar',\n",
        "                                                      color=['gray', 'gray', 'red', 'gray'])"
      ],
      "execution_count": 18,
      "outputs": [
        {
          "output_type": "execute_result",
          "data": {
            "text/plain": [
              "<matplotlib.axes._subplots.AxesSubplot at 0x7fe048d19f60>"
            ]
          },
          "metadata": {
            "tags": []
          },
          "execution_count": 18
        },
        {
          "output_type": "display_data",
          "data": {
            "image/png": "[encoded data removed]",
            "text/plain": [
              "<Figure size 432x288 with 1 Axes>"
            ]
          },
          "metadata": {
            "tags": [],
            "needs_background": "light"
          }
        }
      ]
    },
    {
      "cell_type": "code",
      "metadata": {
        "id": "VN1DJflRWsJn",
        "colab_type": "code",
        "outputId": "9faeef51-ded5-461e-8678-2e7f32d26883",
        "colab": {
          "base_uri": "https://localhost:8080/",
          "height": 248
        }
      },
      "source": [
        "# Use a pie chart to display fair_groups column.\n",
        "titanic['fare_groups'].value_counts().sort_index().plot(kind='pie',\n",
        "                                                        figsize=(4,4));"
      ],
      "execution_count": 19,
      "outputs": [
        {
          "output_type": "display_data",
          "data": {
            "image/png": "[encoded data removed]",
            "text/plain": [
              "<Figure size 288x288 with 1 Axes>"
            ]
          },
          "metadata": {
            "tags": []
          }
        }
      ]
    },
    {
      "cell_type": "code",
      "metadata": {
        "id": "gMbOmwZOWsrO",
        "colab_type": "code",
        "outputId": "03237b54-5a71-4f7d-b731-409241e26bef",
        "colab": {
          "base_uri": "https://localhost:8080/",
          "height": 173
        }
      },
      "source": [
        "# Compare cabin_class and Survived variables using a crosstab.\n",
        "class_surv = pd.crosstab(titanic['cabin_class'], titanic['Survived'])\n",
        "class_surv"
      ],
      "execution_count": 20,
      "outputs": [
        {
          "output_type": "execute_result",
          "data": {
            "text/html": [
              "<div>\n",
              "<style scoped>\n",
              "    .dataframe tbody tr th:only-of-type {\n",
              "        vertical-align: middle;\n",
              "    }\n",
              "\n",
              "    .dataframe tbody tr th {\n",
              "        vertical-align: top;\n",
              "    }\n",
              "\n",
              "    .dataframe thead th {\n",
              "        text-align: right;\n",
              "    }\n",
              "</style>\n",
              "<table border=\"1\" class=\"dataframe\">\n",
              "  <thead>\n",
              "    <tr style=\"text-align: right;\">\n",
              "      <th>Survived</th>\n",
              "      <th>0</th>\n",
              "      <th>1</th>\n",
              "    </tr>\n",
              "    <tr>\n",
              "      <th>cabin_class</th>\n",
              "      <th></th>\n",
              "      <th></th>\n",
              "    </tr>\n",
              "  </thead>\n",
              "  <tbody>\n",
              "    <tr>\n",
              "      <th>first</th>\n",
              "      <td>64</td>\n",
              "      <td>117</td>\n",
              "    </tr>\n",
              "    <tr>\n",
              "      <th>second</th>\n",
              "      <td>90</td>\n",
              "      <td>83</td>\n",
              "    </tr>\n",
              "    <tr>\n",
              "      <th>third</th>\n",
              "      <td>270</td>\n",
              "      <td>85</td>\n",
              "    </tr>\n",
              "  </tbody>\n",
              "</table>\n",
              "</div>"
            ],
            "text/plain": [
              "Survived       0    1\n",
              "cabin_class          \n",
              "first         64  117\n",
              "second        90   83\n",
              "third        270   85"
            ]
          },
          "metadata": {
            "tags": []
          },
          "execution_count": 20
        }
      ]
    },
    {
      "cell_type": "code",
      "metadata": {
        "id": "9cDJ7c9MWsF8",
        "colab_type": "code",
        "outputId": "0603e7d5-ba4a-4129-edef-53e86b8d9013",
        "colab": {
          "base_uri": "https://localhost:8080/",
          "height": 306
        }
      },
      "source": [
        "# Take the values from above and bar chart it.\n",
        "class_surv.plot(kind='bar');\n"
      ],
      "execution_count": 21,
      "outputs": [
        {
          "output_type": "display_data",
          "data": {
            "image/png": "[encoded data removed]",
            "text/plain": [
              "<Figure size 432x288 with 1 Axes>"
            ]
          },
          "metadata": {
            "tags": [],
            "needs_background": "light"
          }
        }
      ]
    },
    {
      "cell_type": "code",
      "metadata": {
        "id": "FRj5QOKUWrLA",
        "colab_type": "code",
        "outputId": "e18db0d4-8d4e-49fb-8519-2a1fd2e09b75",
        "colab": {
          "base_uri": "https://localhost:8080/",
          "height": 173
        }
      },
      "source": [
        "class_surv_norm = pd.crosstab(titanic['cabin_class'],\n",
        "                              titanic['Survived'], normalize='columns')\n",
        "class_surv_norm"
      ],
      "execution_count": 22,
      "outputs": [
        {
          "output_type": "execute_result",
          "data": {
            "text/html": [
              "<div>\n",
              "<style scoped>\n",
              "    .dataframe tbody tr th:only-of-type {\n",
              "        vertical-align: middle;\n",
              "    }\n",
              "\n",
              "    .dataframe tbody tr th {\n",
              "        vertical-align: top;\n",
              "    }\n",
              "\n",
              "    .dataframe thead th {\n",
              "        text-align: right;\n",
              "    }\n",
              "</style>\n",
              "<table border=\"1\" class=\"dataframe\">\n",
              "  <thead>\n",
              "    <tr style=\"text-align: right;\">\n",
              "      <th>Survived</th>\n",
              "      <th>0</th>\n",
              "      <th>1</th>\n",
              "    </tr>\n",
              "    <tr>\n",
              "      <th>cabin_class</th>\n",
              "      <th></th>\n",
              "      <th></th>\n",
              "    </tr>\n",
              "  </thead>\n",
              "  <tbody>\n",
              "    <tr>\n",
              "      <th>first</th>\n",
              "      <td>0.150943</td>\n",
              "      <td>0.410526</td>\n",
              "    </tr>\n",
              "    <tr>\n",
              "      <th>second</th>\n",
              "      <td>0.212264</td>\n",
              "      <td>0.291228</td>\n",
              "    </tr>\n",
              "    <tr>\n",
              "      <th>third</th>\n",
              "      <td>0.636792</td>\n",
              "      <td>0.298246</td>\n",
              "    </tr>\n",
              "  </tbody>\n",
              "</table>\n",
              "</div>"
            ],
            "text/plain": [
              "Survived            0         1\n",
              "cabin_class                    \n",
              "first        0.150943  0.410526\n",
              "second       0.212264  0.291228\n",
              "third        0.636792  0.298246"
            ]
          },
          "metadata": {
            "tags": []
          },
          "execution_count": 22
        }
      ]
    },
    {
      "cell_type": "code",
      "metadata": {
        "id": "UYv_6h5LdrAz",
        "colab_type": "code",
        "outputId": "474afecc-62dc-4745-8ff7-e4db8ead2fde",
        "colab": {
          "base_uri": "https://localhost:8080/",
          "height": 306
        }
      },
      "source": [
        "# Use a stacked bar chart to compare two value.\n",
        "class_surv_norm.plot(kind='bar', stacked=True,\n",
        "                     color=['darkred', 'black']);"
      ],
      "execution_count": 23,
      "outputs": [
        {
          "output_type": "display_data",
          "data": {
            "image/png": "[encoded data removed]",
            "text/plain": [
              "<Figure size 432x288 with 1 Axes>"
            ]
          },
          "metadata": {
            "tags": [],
            "needs_background": "light"
          }
        }
      ]
    },
    {
      "cell_type": "code",
      "metadata": {
        "id": "bZoGp0SAeSni",
        "colab_type": "code",
        "outputId": "f00352fe-836b-45ec-80cb-522ea6dd4bd4",
        "colab": {
          "base_uri": "https://localhost:8080/",
          "height": 173
        }
      },
      "source": [
        "# Crosstab the data using the index.\n",
        "class_surv_index = pd.crosstab(titanic['cabin_class'],\n",
        "                               titanic['Survived'],\n",
        "                               normalize='index');\n",
        "class_surv_index"
      ],
      "execution_count": 24,
      "outputs": [
        {
          "output_type": "execute_result",
          "data": {
            "text/html": [
              "<div>\n",
              "<style scoped>\n",
              "    .dataframe tbody tr th:only-of-type {\n",
              "        vertical-align: middle;\n",
              "    }\n",
              "\n",
              "    .dataframe tbody tr th {\n",
              "        vertical-align: top;\n",
              "    }\n",
              "\n",
              "    .dataframe thead th {\n",
              "        text-align: right;\n",
              "    }\n",
              "</style>\n",
              "<table border=\"1\" class=\"dataframe\">\n",
              "  <thead>\n",
              "    <tr style=\"text-align: right;\">\n",
              "      <th>Survived</th>\n",
              "      <th>0</th>\n",
              "      <th>1</th>\n",
              "    </tr>\n",
              "    <tr>\n",
              "      <th>cabin_class</th>\n",
              "      <th></th>\n",
              "      <th></th>\n",
              "    </tr>\n",
              "  </thead>\n",
              "  <tbody>\n",
              "    <tr>\n",
              "      <th>first</th>\n",
              "      <td>0.353591</td>\n",
              "      <td>0.646409</td>\n",
              "    </tr>\n",
              "    <tr>\n",
              "      <th>second</th>\n",
              "      <td>0.520231</td>\n",
              "      <td>0.479769</td>\n",
              "    </tr>\n",
              "    <tr>\n",
              "      <th>third</th>\n",
              "      <td>0.760563</td>\n",
              "      <td>0.239437</td>\n",
              "    </tr>\n",
              "  </tbody>\n",
              "</table>\n",
              "</div>"
            ],
            "text/plain": [
              "Survived            0         1\n",
              "cabin_class                    \n",
              "first        0.353591  0.646409\n",
              "second       0.520231  0.479769\n",
              "third        0.760563  0.239437"
            ]
          },
          "metadata": {
            "tags": []
          },
          "execution_count": 24
        }
      ]
    },
    {
      "cell_type": "code",
      "metadata": {
        "id": "OCKRE2qOeSj-",
        "colab_type": "code",
        "outputId": "bcd7839b-d7d7-4695-fe4d-63ed3742ca07",
        "colab": {
          "base_uri": "https://localhost:8080/",
          "height": 265
        }
      },
      "source": [
        "# Display using a stacked horizontal bar chart.\n",
        "# Using yellow and green - cuz this is the frozen tundra!!\n",
        "class_surv_index.plot(kind='barh', color=['yellow', 'green'],\n",
        "                      figsize=(8,4));"
      ],
      "execution_count": 25,
      "outputs": [
        {
          "output_type": "display_data",
          "data": {
            "image/png": "[encoded data removed]",
            "text/plain": [
              "<Figure size 576x288 with 1 Axes>"
            ]
          },
          "metadata": {
            "tags": [],
            "needs_background": "light"
          }
        }
      ]
    },
    {
      "cell_type": "code",
      "metadata": {
        "id": "66oPCfP_fdy9",
        "colab_type": "code",
        "outputId": "9de2c55b-278a-40d7-f23b-f36ac345a89b",
        "colab": {
          "base_uri": "https://localhost:8080/",
          "height": 170
        }
      },
      "source": [
        "# Using Age, display the statistics of the column data.\n",
        "titanic['Age'].describe()\n",
        "titanic['Age'].mean()\n",
        "titanic['Age'].median()\n",
        "titanic['Age'].std()\n",
        "titanic['Age'].describe()"
      ],
      "execution_count": 26,
      "outputs": [
        {
          "output_type": "execute_result",
          "data": {
            "text/plain": [
              "count    709.000000\n",
              "mean      29.618011\n",
              "std       14.518828\n",
              "min        0.420000\n",
              "25%       20.000000\n",
              "50%       28.000000\n",
              "75%       38.000000\n",
              "max       80.000000\n",
              "Name: Age, dtype: float64"
            ]
          },
          "metadata": {
            "tags": []
          },
          "execution_count": 26
        }
      ]
    },
    {
      "cell_type": "code",
      "metadata": {
        "id": "7TXDlH1pfeJ7",
        "colab_type": "code",
        "outputId": "8bc85c77-2b69-4d73-d572-0ce1efe3c79c",
        "colab": {
          "base_uri": "https://localhost:8080/",
          "height": 102
        }
      },
      "source": [
        "# Break up this information into categories using Age.\n",
        "AgeCat = titanic.groupby('cabin_class')['Age'].mean()\n",
        "AgeCat"
      ],
      "execution_count": 27,
      "outputs": [
        {
          "output_type": "execute_result",
          "data": {
            "text/plain": [
              "cabin_class\n",
              "first     38.151492\n",
              "second    29.877630\n",
              "third     25.140620\n",
              "Name: Age, dtype: float64"
            ]
          },
          "metadata": {
            "tags": []
          },
          "execution_count": 27
        }
      ]
    },
    {
      "cell_type": "code",
      "metadata": {
        "id": "2d74IpnifeDV",
        "colab_type": "code",
        "outputId": "af68f484-40ee-4465-d7b7-ce14cf4716bc",
        "colab": {
          "base_uri": "https://localhost:8080/",
          "height": 265
        }
      },
      "source": [
        "# Use a box plot to display the Age variable.\n",
        "titanic['Age'].plot(kind='box');"
      ],
      "execution_count": 28,
      "outputs": [
        {
          "output_type": "display_data",
          "data": {
            "image/png": "[encoded data removed]",
            "text/plain": [
              "<Figure size 432x288 with 1 Axes>"
            ]
          },
          "metadata": {
            "tags": [],
            "needs_background": "light"
          }
        }
      ]
    },
    {
      "cell_type": "code",
      "metadata": {
        "id": "cBt-kyiBfdn5",
        "colab_type": "code",
        "outputId": "248d85e5-b491-4796-889f-7c62e206a2da",
        "colab": {
          "base_uri": "https://localhost:8080/",
          "height": 302
        }
      },
      "source": [
        "plt.style.use('fast')\n",
        "titanic.boxplot(column='Age',\n",
        "                by='cabin_class');"
      ],
      "execution_count": 29,
      "outputs": [
        {
          "output_type": "display_data",
          "data": {
            "image/png": "[encoded data removed]",
            "text/plain": [
              "<Figure size 432x288 with 1 Axes>"
            ]
          },
          "metadata": {
            "tags": [],
            "needs_background": "light"
          }
        }
      ]
    },
    {
      "cell_type": "code",
      "metadata": {
        "id": "M7uwc-PiWafZ",
        "colab_type": "code",
        "outputId": "ca76e96d-1194-470c-f107-bf74dd732830",
        "colab": {
          "base_uri": "https://localhost:8080/",
          "height": 279
        }
      },
      "source": [
        "# Dispaly Fare and Age using a scatterplot.\n",
        "titanic.plot(kind='scatter', x='Fare', y='Age',\n",
        "             figsize=(12,4));"
      ],
      "execution_count": 30,
      "outputs": [
        {
          "output_type": "display_data",
          "data": {
            "image/png": "[encoded data removed]",
            "text/plain": [
              "<Figure size 864x288 with 1 Axes>"
            ]
          },
          "metadata": {
            "tags": [],
            "needs_background": "light"
          }
        }
      ]
    },
    {
      "cell_type": "code",
      "metadata": {
        "id": "zqQE_FTvWaPK",
        "colab_type": "code",
        "outputId": "f95fb219-ade3-4a70-e2d3-0c189f869b70",
        "colab": {
          "base_uri": "https://localhost:8080/",
          "height": 258
        }
      },
      "source": [
        "# Use a scatterplot to display three variables.\n",
        "plt.style.use('fast')\n",
        "titanic.plot(kind='scatter',\n",
        "             x='Fare', y='Age', c='Pclass',\n",
        "             colormap='plasma', figsize=(10,4));"
      ],
      "execution_count": 31,
      "outputs": [
        {
          "output_type": "display_data",
          "data": {
            "image/png": "[encoded data removed]",
            "text/plain": [
              "<Figure size 720x288 with 2 Axes>"
            ]
          },
          "metadata": {
            "tags": [],
            "needs_background": "light"
          }
        }
      ]
    },
    {
      "cell_type": "code",
      "metadata": {
        "id": "2n9_XXrYkLzY",
        "colab_type": "code",
        "outputId": "71f870fc-547c-49fe-b748-8f60fab010b9",
        "colab": {
          "base_uri": "https://localhost:8080/",
          "height": 279
        }
      },
      "source": [
        "# Use linechart to display the age variable by the Fare variable.\n",
        "titanic.groupby('Age')['Fare'].mean().plot(kind='line',\n",
        "                                           figsize=(10,4));"
      ],
      "execution_count": 32,
      "outputs": [
        {
          "output_type": "display_data",
          "data": {
            "image/png": "[encoded data removed]",
            "text/plain": [
              "<Figure size 720x288 with 1 Axes>"
            ]
          },
          "metadata": {
            "tags": [],
            "needs_background": "light"
          }
        }
      ]
    },
    {
      "cell_type": "code",
      "metadata": {
        "id": "F9Eo3dBvkMGP",
        "colab_type": "code",
        "outputId": "a1f120a5-fb38-42d5-eae8-b1f46711a42c",
        "colab": {
          "base_uri": "https://localhost:8080/",
          "height": 279
        }
      },
      "source": [
        "mycolors=['crimson', 'purple', 'dodgerblue']\n",
        "# Use a for loop to display the same variables.\n",
        "for x in [1,2,3]:\n",
        "  titanic[titanic['Pclass']==x].groupby('Age')['Fare'].mean().plot(kind='line',\n",
        "                                                           figsize=(10,4),\n",
        "                                                           color=mycolors);"
      ],
      "execution_count": 33,
      "outputs": [
        {
          "output_type": "display_data",
          "data": {
            "image/png": "[encoded data removed]",
            "text/plain": [
              "<Figure size 720x288 with 1 Axes>"
            ]
          },
          "metadata": {
            "tags": [],
            "needs_background": "light"
          }
        }
      ]
    },
    {
      "cell_type": "code",
      "metadata": {
        "id": "92UMrrKrkMWC",
        "colab_type": "code",
        "outputId": "b4335c96-41ad-44fd-bdec-93798e7e5ac0",
        "colab": {
          "base_uri": "https://localhost:8080/",
          "height": 173
        }
      },
      "source": [
        "# Display the correlations.\n",
        "titanic.corr()"
      ],
      "execution_count": 34,
      "outputs": [
        {
          "output_type": "execute_result",
          "data": {
            "text/html": [
              "<div>\n",
              "<style scoped>\n",
              "    .dataframe tbody tr th:only-of-type {\n",
              "        vertical-align: middle;\n",
              "    }\n",
              "\n",
              "    .dataframe tbody tr th {\n",
              "        vertical-align: top;\n",
              "    }\n",
              "\n",
              "    .dataframe thead th {\n",
              "        text-align: right;\n",
              "    }\n",
              "</style>\n",
              "<table border=\"1\" class=\"dataframe\">\n",
              "  <thead>\n",
              "    <tr style=\"text-align: right;\">\n",
              "      <th></th>\n",
              "      <th>Survived</th>\n",
              "      <th>Pclass</th>\n",
              "      <th>Age</th>\n",
              "      <th>Fare</th>\n",
              "    </tr>\n",
              "  </thead>\n",
              "  <tbody>\n",
              "    <tr>\n",
              "      <th>Survived</th>\n",
              "      <td>1.000000</td>\n",
              "      <td>-0.351579</td>\n",
              "      <td>-0.084756</td>\n",
              "      <td>0.272376</td>\n",
              "    </tr>\n",
              "    <tr>\n",
              "      <th>Pclass</th>\n",
              "      <td>-0.351579</td>\n",
              "      <td>1.000000</td>\n",
              "      <td>-0.365259</td>\n",
              "      <td>-0.616062</td>\n",
              "    </tr>\n",
              "    <tr>\n",
              "      <th>Age</th>\n",
              "      <td>-0.084756</td>\n",
              "      <td>-0.365259</td>\n",
              "      <td>1.000000</td>\n",
              "      <td>0.096573</td>\n",
              "    </tr>\n",
              "    <tr>\n",
              "      <th>Fare</th>\n",
              "      <td>0.272376</td>\n",
              "      <td>-0.616062</td>\n",
              "      <td>0.096573</td>\n",
              "      <td>1.000000</td>\n",
              "    </tr>\n",
              "  </tbody>\n",
              "</table>\n",
              "</div>"
            ],
            "text/plain": [
              "          Survived    Pclass       Age      Fare\n",
              "Survived  1.000000 -0.351579 -0.084756  0.272376\n",
              "Pclass   -0.351579  1.000000 -0.365259 -0.616062\n",
              "Age      -0.084756 -0.365259  1.000000  0.096573\n",
              "Fare      0.272376 -0.616062  0.096573  1.000000"
            ]
          },
          "metadata": {
            "tags": []
          },
          "execution_count": 34
        }
      ]
    },
    {
      "cell_type": "code",
      "metadata": {
        "id": "F88Mr70ykM4n",
        "colab_type": "code",
        "outputId": "82cb4297-e809-4209-e14a-5228bd29d32b",
        "colab": {
          "base_uri": "https://localhost:8080/",
          "height": 269
        }
      },
      "source": [
        "plt.imshow(titanic.corr());"
      ],
      "execution_count": 35,
      "outputs": [
        {
          "output_type": "display_data",
          "data": {
            "image/png": "[encoded data removed]",
            "text/plain": [
              "<Figure size 432x288 with 1 Axes>"
            ]
          },
          "metadata": {
            "tags": [],
            "needs_background": "light"
          }
        }
      ]
    },
    {
      "cell_type": "code",
      "metadata": {
        "id": "1pNsZzZekMle",
        "colab_type": "code",
        "outputId": "43a6620f-e96e-41a9-a1a5-b7d135b22439",
        "colab": {
          "base_uri": "https://localhost:8080/",
          "height": 269
        }
      },
      "source": [
        "sns.heatmap(titanic.corr());"
      ],
      "execution_count": 36,
      "outputs": [
        {
          "output_type": "display_data",
          "data": {
            "image/png": "[encoded data removed]",
            "text/plain": [
              "<Figure size 432x288 with 2 Axes>"
            ]
          },
          "metadata": {
            "tags": [],
            "needs_background": "light"
          }
        }
      ]
    },
    {
      "cell_type": "code",
      "metadata": {
        "id": "8hu-BxZynCgW",
        "colab_type": "code",
        "outputId": "1d4a9007-14d2-4c66-abb1-8b3fbee2028a",
        "colab": {
          "base_uri": "https://localhost:8080/",
          "height": 68
        }
      },
      "source": [
        "x = np.linspace(0,5,11)\n",
        "y = x**2\n",
        "x, y"
      ],
      "execution_count": 37,
      "outputs": [
        {
          "output_type": "execute_result",
          "data": {
            "text/plain": [
              "(array([0. , 0.5, 1. , 1.5, 2. , 2.5, 3. , 3.5, 4. , 4.5, 5. ]),\n",
              " array([ 0.  ,  0.25,  1.  ,  2.25,  4.  ,  6.25,  9.  , 12.25, 16.  ,\n",
              "        20.25, 25.  ]))"
            ]
          },
          "metadata": {
            "tags": []
          },
          "execution_count": 37
        }
      ]
    },
    {
      "cell_type": "code",
      "metadata": {
        "id": "HkN7CfBCnDrc",
        "colab_type": "code",
        "outputId": "7c327849-3275-4883-e8b9-a6149229ae17",
        "colab": {
          "base_uri": "https://localhost:8080/",
          "height": 265
        }
      },
      "source": [
        "# Plot without using the pandas library, just matplotlib.pyplot.\n",
        "plt.plot(x,y);"
      ],
      "execution_count": 38,
      "outputs": [
        {
          "output_type": "display_data",
          "data": {
            "image/png": "[encoded data removed]",
            "text/plain": [
              "<Figure size 432x288 with 1 Axes>"
            ]
          },
          "metadata": {
            "tags": [],
            "needs_background": "light"
          }
        }
      ]
    },
    {
      "cell_type": "code",
      "metadata": {
        "id": "LBt0UEfFnEkv",
        "colab_type": "code",
        "outputId": "28d70cfc-9bfb-4ed3-cd76-3c71c5b42535",
        "colab": {
          "base_uri": "https://localhost:8080/",
          "height": 265
        }
      },
      "source": [
        "# Diplay two matplotlib.pyplots together.\n",
        "plt.plot(x,y,'r')\n",
        "plt.plot(y,x, 'b');"
      ],
      "execution_count": 39,
      "outputs": [
        {
          "output_type": "display_data",
          "data": {
            "image/png": "[encoded data removed]",
            "text/plain": [
              "<Figure size 432x288 with 1 Axes>"
            ]
          },
          "metadata": {
            "tags": [],
            "needs_background": "light"
          }
        }
      ]
    },
    {
      "cell_type": "code",
      "metadata": {
        "id": "Ze_U1k6KnFEx",
        "colab_type": "code",
        "outputId": "4f37b972-fadc-4ff8-f100-f798f50a80b9",
        "colab": {
          "base_uri": "https://localhost:8080/",
          "height": 295
        }
      },
      "source": [
        "# Adding labels and colors to the plot.\n",
        "plt.plot(x,y,'r--')\n",
        "plt.plot(y,x, 'k*-')\n",
        "plt.xlabel('stuff here')\n",
        "plt.ylabel('more stuff')\n",
        "plt.title('lots of stuff');"
      ],
      "execution_count": 40,
      "outputs": [
        {
          "output_type": "display_data",
          "data": {
            "image/png": "[encoded data removed]",
            "text/plain": [
              "<Figure size 432x288 with 1 Axes>"
            ]
          },
          "metadata": {
            "tags": [],
            "needs_background": "light"
          }
        }
      ]
    },
    {
      "cell_type": "code",
      "metadata": {
        "id": "OFk7WdwbnFeE",
        "colab_type": "code",
        "outputId": "432f0ab0-c5ed-48de-ef1c-8ae809d1d1aa",
        "colab": {
          "base_uri": "https://localhost:8080/",
          "height": 282
        }
      },
      "source": [
        "# Stack the plots using subplot.\n",
        "plt.subplot(3,1,1)\n",
        "plt.plot(x,y,'b')\n",
        "plt.subplot(3,1,2)\n",
        "plt.plot(x,y,'r--')\n",
        "plt.subplot(3,1,3)\n",
        "plt.plot(x,y,'g-x')\n",
        ";"
      ],
      "execution_count": 41,
      "outputs": [
        {
          "output_type": "execute_result",
          "data": {
            "text/plain": [
              "''"
            ]
          },
          "metadata": {
            "tags": []
          },
          "execution_count": 41
        },
        {
          "output_type": "display_data",
          "data": {
            "image/png": "[encoded data removed]",
            "text/plain": [
              "<Figure size 432x288 with 3 Axes>"
            ]
          },
          "metadata": {
            "tags": [],
            "needs_background": "light"
          }
        }
      ]
    },
    {
      "cell_type": "code",
      "metadata": {
        "id": "HAgg9-BVnF8K",
        "colab_type": "code",
        "outputId": "2bc24635-b858-4191-ea5b-4accacd04092",
        "colab": {
          "base_uri": "https://localhost:8080/",
          "height": 308
        }
      },
      "source": [
        "# Create the Figure\n",
        "fig = plt.figure()\n",
        "# Add set of axes to figure\n",
        " # left, bottom, width, height (range 0 to 1)\n",
        "ax = fig.add_axes([0.1, 0.1, 0.8, 0.8])\n",
        "\n",
        "# Plot on that set of axes\n",
        "ax.plot(x,y,'b')\n",
        "ax.set_xlabel('this label')\n",
        "ax.set_ylabel('this label')\n",
        "ax.set_title('this label');"
      ],
      "execution_count": 42,
      "outputs": [
        {
          "output_type": "display_data",
          "data": {
            "image/png": "[encoded data removed]",
            "text/plain": [
              "<Figure size 432x288 with 1 Axes>"
            ]
          },
          "metadata": {
            "tags": [],
            "needs_background": "light"
          }
        }
      ]
    },
    {
      "cell_type": "code",
      "metadata": {
        "id": "irwMPLOsnEZY",
        "colab_type": "code",
        "colab": {}
      },
      "source": [
        ""
      ],
      "execution_count": 0,
      "outputs": []
    },
    {
      "cell_type": "code",
      "metadata": {
        "id": "vVLKYJJTnDmh",
        "colab_type": "code",
        "colab": {}
      },
      "source": [
        ""
      ],
      "execution_count": 0,
      "outputs": []
    },
    {
      "cell_type": "code",
      "metadata": {
        "id": "mKcGk6MqnDdn",
        "colab_type": "code",
        "outputId": "b1a856c6-ecfc-45c4-90f8-5803fab5f30f",
        "colab": {
          "base_uri": "https://localhost:8080/",
          "height": 355
        }
      },
      "source": [
        "# Import IPython.diplay - display and image \n",
        "from IPython.display import display, Image\n",
        "# Display the file from url.\n",
        "url = 'https://fivethirtyeight.com/wp-content/uploads/2017/09/mehtahickey-inconvenient-0830-1.png'\n",
        "img = Image(url=url, width=400)\n",
        "\n",
        "display(img)"
      ],
      "execution_count": 43,
      "outputs": [
        {
          "output_type": "display_data",
          "data": {
            "text/html": [
              "<img src=\"https://fivethirtyeight.com/wp-content/uploads/2017/09/mehtahickey-inconvenient-0830-1.png\" width=\"400\"/>"
            ],
            "text/plain": [
              "<IPython.core.display.Image object>"
            ]
          },
          "metadata": {
            "tags": []
          }
        }
      ]
    },
    {
      "cell_type": "code",
      "metadata": {
        "id": "Z85C0k4hnDWG",
        "colab_type": "code",
        "colab": {}
      },
      "source": [
        "# Use the fivethirtyeight plot style.\n",
        "plt.style.use('fivethirtyeight')"
      ],
      "execution_count": 0,
      "outputs": []
    },
    {
      "cell_type": "code",
      "metadata": {
        "id": "0cdrE52ZnDQ5",
        "colab_type": "code",
        "outputId": "8025c647-68d7-4e28-c1f8-2cc8fbe54354",
        "colab": {
          "base_uri": "https://localhost:8080/",
          "height": 204
        }
      },
      "source": [
        "# Create some data to replicate the blog post figure.\n",
        "some_data=[13,5,12,1,7,9,25,13,15,33]\n",
        "data = pd.Series(some_data, index=range(1,11))\n",
        "data"
      ],
      "execution_count": 45,
      "outputs": [
        {
          "output_type": "execute_result",
          "data": {
            "text/plain": [
              "1     13\n",
              "2      5\n",
              "3     12\n",
              "4      1\n",
              "5      7\n",
              "6      9\n",
              "7     25\n",
              "8     13\n",
              "9     15\n",
              "10    33\n",
              "dtype: int64"
            ]
          },
          "metadata": {
            "tags": []
          },
          "execution_count": 45
        }
      ]
    },
    {
      "cell_type": "code",
      "metadata": {
        "id": "7-8nWgiUnCYt",
        "colab_type": "code",
        "outputId": "45318c14-cf96-4f92-a716-ce713cdc0977",
        "colab": {
          "base_uri": "https://localhost:8080/",
          "height": 285
        }
      },
      "source": [
        "data.plot.bar(color='C3', width=0.9);"
      ],
      "execution_count": 46,
      "outputs": [
        {
          "output_type": "display_data",
          "data": {
            "image/png": "[encoded data removed]",
            "text/plain": [
              "<Figure size 432x288 with 1 Axes>"
            ]
          },
          "metadata": {
            "tags": []
          }
        }
      ]
    },
    {
      "cell_type": "code",
      "metadata": {
        "id": "gD0p87dwnCUM",
        "colab_type": "code",
        "outputId": "262c8cc4-0fdf-4c9c-8597-b5bee7794cd3",
        "colab": {
          "base_uri": "https://localhost:8080/",
          "height": 355
        }
      },
      "source": [
        "display(img)"
      ],
      "execution_count": 47,
      "outputs": [
        {
          "output_type": "display_data",
          "data": {
            "text/html": [
              "<img src=\"https://fivethirtyeight.com/wp-content/uploads/2017/09/mehtahickey-inconvenient-0830-1.png\" width=\"400\"/>"
            ],
            "text/plain": [
              "<IPython.core.display.Image object>"
            ]
          },
          "metadata": {
            "tags": []
          }
        }
      ]
    },
    {
      "cell_type": "code",
      "metadata": {
        "id": "VGZHUSLnvAbd",
        "colab_type": "code",
        "colab": {}
      },
      "source": [
        "fakelist2=[1, 1, 1, 1, 1, 1, 1, 1, 1, 1, 1, 1, 1, 1, 1, 1, 1, 1, 1, 1, 1, 1, 1, 1,\n",
        "     2, 2, 2, \n",
        "     3, 3, 3,\n",
        "     4, 4,\n",
        "     5, 5, 5,\n",
        "     6, 6, 6, 6,\n",
        "     7, 7, 7, 7, 7,\n",
        "     8, 8, 8, 8,\n",
        "     9, 9, 9, 9, \n",
        "     10, 10, 10, 10, 10, 10, 10, 10, 10, 10, 10, 10, 10, 10, 10, 10, 10, 10]\n"
      ],
      "execution_count": 0,
      "outputs": []
    },
    {
      "cell_type": "code",
      "metadata": {
        "id": "bEcZSJ6OvOSw",
        "colab_type": "code",
        "outputId": "33474b73-9db1-4231-a749-9ea849904655",
        "colab": {
          "base_uri": "https://localhost:8080/",
          "height": 289
        }
      },
      "source": [
        "data2 = pd.Series(fakelist2)\n",
        "data2.value_counts().sort_index().plot.bar(color='C1', width=0.9);"
      ],
      "execution_count": 49,
      "outputs": [
        {
          "output_type": "display_data",
          "data": {
            "image/png": "[encoded data removed]",
            "text/plain": [
              "<Figure size 432x288 with 1 Axes>"
            ]
          },
          "metadata": {
            "tags": []
          }
        }
      ]
    },
    {
      "cell_type": "code",
      "metadata": {
        "id": "csphvNh2vPZx",
        "colab_type": "code",
        "outputId": "e91629f2-3184-4cfe-e3ad-db89caef7689",
        "colab": {
          "base_uri": "https://localhost:8080/",
          "height": 342
        }
      },
      "source": [
        "fig, ax = plt.subplots()\n",
        "fig.patch.set(facecolor=\"white\")\n",
        "\n",
        "# Set the bars\n",
        "data.plot.bar(width=0.9, color=\"#ED713A\")\n",
        "\n",
        "ax.set(facecolor=\"white\")\n",
        "\n",
        "# Set the title and subtitle\n",
        "ax.set_title(\"'An Inconvenient Sequel: Truth To Power' is divisive\", \n",
        "             fontsize=12, \n",
        "             x=.35, \n",
        "             y=1.1,\n",
        "             fontweight='bold')\n",
        "ax.text(s=\"IMDb ratings for the film as of Aug. 29\", fontsize=12, x=-1.85, y=42);\n",
        "\n",
        "# Set the x and y axes labels\n",
        "ax.set_xlabel(\"Rating\", fontsize=9)\n",
        "ax.set_ylabel(\"Percent of total votes\", fontsize=9)\n",
        "\n",
        "# Fix the x an y axis tick marks and grid\n",
        "ax.set_xticklabels(range(1,11), rotation=45)\n",
        "ax.set_yticklabels(range(0,50,10), rotation=45)\n",
        "ax.set_yticks(range(0,50,5));"
      ],
      "execution_count": 50,
      "outputs": [
        {
          "output_type": "display_data",
          "data": {
            "image/png": "[encoded data removed]",
            "text/plain": [
              "<Figure size 432x288 with 1 Axes>"
            ]
          },
          "metadata": {
            "tags": []
          }
        }
      ]
    },
    {
      "cell_type": "code",
      "metadata": {
        "id": "kK_gkOQXvPPz",
        "colab_type": "code",
        "outputId": "700f8f01-b029-4c4c-cf65-c3ac1d9b7644",
        "colab": {
          "base_uri": "https://localhost:8080/",
          "height": 355
        }
      },
      "source": [
        "display(img)"
      ],
      "execution_count": 51,
      "outputs": [
        {
          "output_type": "display_data",
          "data": {
            "text/html": [
              "<img src=\"https://fivethirtyeight.com/wp-content/uploads/2017/09/mehtahickey-inconvenient-0830-1.png\" width=\"400\"/>"
            ],
            "text/plain": [
              "<IPython.core.display.Image object>"
            ]
          },
          "metadata": {
            "tags": []
          }
        }
      ]
    },
    {
      "cell_type": "code",
      "metadata": {
        "id": "IfoTYp4IwGt4",
        "colab_type": "code",
        "outputId": "504e4a77-c07f-4202-b497-a7eacdee93a3",
        "colab": {
          "base_uri": "https://localhost:8080/",
          "height": 309
        }
      },
      "source": [
        "# read the data from 538's github repo\n",
        "ratings = pd.read_csv('https://raw.githubusercontent.com/fivethirtyeight/data/master/inconvenient-sequel/ratings.csv')\n",
        "ratings.tail()"
      ],
      "execution_count": 52,
      "outputs": [
        {
          "output_type": "execute_result",
          "data": {
            "text/html": [
              "<div>\n",
              "<style scoped>\n",
              "    .dataframe tbody tr th:only-of-type {\n",
              "        vertical-align: middle;\n",
              "    }\n",
              "\n",
              "    .dataframe tbody tr th {\n",
              "        vertical-align: top;\n",
              "    }\n",
              "\n",
              "    .dataframe thead th {\n",
              "        text-align: right;\n",
              "    }\n",
              "</style>\n",
              "<table border=\"1\" class=\"dataframe\">\n",
              "  <thead>\n",
              "    <tr style=\"text-align: right;\">\n",
              "      <th></th>\n",
              "      <th>timestamp</th>\n",
              "      <th>respondents</th>\n",
              "      <th>category</th>\n",
              "      <th>link</th>\n",
              "      <th>average</th>\n",
              "      <th>mean</th>\n",
              "      <th>median</th>\n",
              "      <th>1_votes</th>\n",
              "      <th>2_votes</th>\n",
              "      <th>3_votes</th>\n",
              "      <th>4_votes</th>\n",
              "      <th>5_votes</th>\n",
              "      <th>6_votes</th>\n",
              "      <th>7_votes</th>\n",
              "      <th>8_votes</th>\n",
              "      <th>9_votes</th>\n",
              "      <th>10_votes</th>\n",
              "      <th>1_pct</th>\n",
              "      <th>2_pct</th>\n",
              "      <th>3_pct</th>\n",
              "      <th>4_pct</th>\n",
              "      <th>5_pct</th>\n",
              "      <th>6_pct</th>\n",
              "      <th>7_pct</th>\n",
              "      <th>8_pct</th>\n",
              "      <th>9_pct</th>\n",
              "      <th>10_pct</th>\n",
              "    </tr>\n",
              "  </thead>\n",
              "  <tbody>\n",
              "    <tr>\n",
              "      <th>80048</th>\n",
              "      <td>2017-08-29 23:10:05.369510</td>\n",
              "      <td>8</td>\n",
              "      <td>IMDb staff</td>\n",
              "      <td>http://www.imdb.com/title/tt6322922/ratings-im...</td>\n",
              "      <td>8.4</td>\n",
              "      <td>7.2</td>\n",
              "      <td>8</td>\n",
              "      <td>1</td>\n",
              "      <td>0</td>\n",
              "      <td>0</td>\n",
              "      <td>0</td>\n",
              "      <td>0</td>\n",
              "      <td>1</td>\n",
              "      <td>1</td>\n",
              "      <td>2</td>\n",
              "      <td>2</td>\n",
              "      <td>1</td>\n",
              "      <td>12.5</td>\n",
              "      <td>0.0</td>\n",
              "      <td>0.0</td>\n",
              "      <td>0.0</td>\n",
              "      <td>0.0</td>\n",
              "      <td>12.5</td>\n",
              "      <td>12.5</td>\n",
              "      <td>25.0</td>\n",
              "      <td>25.0</td>\n",
              "      <td>12.5</td>\n",
              "    </tr>\n",
              "    <tr>\n",
              "      <th>80049</th>\n",
              "      <td>2017-08-29 23:10:05.598331</td>\n",
              "      <td>41</td>\n",
              "      <td>Top 1000 voters</td>\n",
              "      <td>http://www.imdb.com/title/tt6322922/ratings-to...</td>\n",
              "      <td>4.6</td>\n",
              "      <td>4.7</td>\n",
              "      <td>5</td>\n",
              "      <td>11</td>\n",
              "      <td>4</td>\n",
              "      <td>2</td>\n",
              "      <td>2</td>\n",
              "      <td>5</td>\n",
              "      <td>4</td>\n",
              "      <td>5</td>\n",
              "      <td>1</td>\n",
              "      <td>1</td>\n",
              "      <td>6</td>\n",
              "      <td>26.8</td>\n",
              "      <td>9.8</td>\n",
              "      <td>4.9</td>\n",
              "      <td>4.9</td>\n",
              "      <td>12.2</td>\n",
              "      <td>9.8</td>\n",
              "      <td>12.2</td>\n",
              "      <td>2.4</td>\n",
              "      <td>2.4</td>\n",
              "      <td>14.6</td>\n",
              "    </tr>\n",
              "    <tr>\n",
              "      <th>80050</th>\n",
              "      <td>2017-08-29 23:10:05.794141</td>\n",
              "      <td>925</td>\n",
              "      <td>US users</td>\n",
              "      <td>http://www.imdb.com/title/tt6322922/ratings-usa</td>\n",
              "      <td>4.8</td>\n",
              "      <td>5.0</td>\n",
              "      <td>4</td>\n",
              "      <td>405</td>\n",
              "      <td>34</td>\n",
              "      <td>20</td>\n",
              "      <td>8</td>\n",
              "      <td>9</td>\n",
              "      <td>30</td>\n",
              "      <td>54</td>\n",
              "      <td>46</td>\n",
              "      <td>60</td>\n",
              "      <td>259</td>\n",
              "      <td>43.8</td>\n",
              "      <td>3.7</td>\n",
              "      <td>2.2</td>\n",
              "      <td>0.9</td>\n",
              "      <td>1.0</td>\n",
              "      <td>3.2</td>\n",
              "      <td>5.8</td>\n",
              "      <td>5.0</td>\n",
              "      <td>6.5</td>\n",
              "      <td>28.0</td>\n",
              "    </tr>\n",
              "    <tr>\n",
              "      <th>80051</th>\n",
              "      <td>2017-08-29 23:10:06.022268</td>\n",
              "      <td>565</td>\n",
              "      <td>Non-US users</td>\n",
              "      <td>http://www.imdb.com/title/tt6322922/ratings-in...</td>\n",
              "      <td>6.4</td>\n",
              "      <td>6.5</td>\n",
              "      <td>7</td>\n",
              "      <td>129</td>\n",
              "      <td>11</td>\n",
              "      <td>10</td>\n",
              "      <td>8</td>\n",
              "      <td>32</td>\n",
              "      <td>47</td>\n",
              "      <td>52</td>\n",
              "      <td>37</td>\n",
              "      <td>35</td>\n",
              "      <td>204</td>\n",
              "      <td>22.8</td>\n",
              "      <td>1.9</td>\n",
              "      <td>1.8</td>\n",
              "      <td>1.4</td>\n",
              "      <td>5.7</td>\n",
              "      <td>8.3</td>\n",
              "      <td>9.2</td>\n",
              "      <td>6.5</td>\n",
              "      <td>6.2</td>\n",
              "      <td>36.1</td>\n",
              "    </tr>\n",
              "    <tr>\n",
              "      <th>80052</th>\n",
              "      <td>2017-08-29 23:10:06.218251</td>\n",
              "      <td>2662</td>\n",
              "      <td>IMDb users</td>\n",
              "      <td>http://www.imdb.com/title/tt6322922/ratings</td>\n",
              "      <td>5.4</td>\n",
              "      <td>5.6</td>\n",
              "      <td>7</td>\n",
              "      <td>1021</td>\n",
              "      <td>69</td>\n",
              "      <td>38</td>\n",
              "      <td>25</td>\n",
              "      <td>55</td>\n",
              "      <td>110</td>\n",
              "      <td>154</td>\n",
              "      <td>147</td>\n",
              "      <td>146</td>\n",
              "      <td>897</td>\n",
              "      <td>38.4</td>\n",
              "      <td>2.6</td>\n",
              "      <td>1.4</td>\n",
              "      <td>0.9</td>\n",
              "      <td>2.1</td>\n",
              "      <td>4.1</td>\n",
              "      <td>5.8</td>\n",
              "      <td>5.5</td>\n",
              "      <td>5.5</td>\n",
              "      <td>33.7</td>\n",
              "    </tr>\n",
              "  </tbody>\n",
              "</table>\n",
              "</div>"
            ],
            "text/plain": [
              "                        timestamp  respondents  ... 9_pct 10_pct\n",
              "80048  2017-08-29 23:10:05.369510            8  ...  25.0   12.5\n",
              "80049  2017-08-29 23:10:05.598331           41  ...   2.4   14.6\n",
              "80050  2017-08-29 23:10:05.794141          925  ...   6.5   28.0\n",
              "80051  2017-08-29 23:10:06.022268          565  ...   6.2   36.1\n",
              "80052  2017-08-29 23:10:06.218251         2662  ...   5.5   33.7\n",
              "\n",
              "[5 rows x 27 columns]"
            ]
          },
          "metadata": {
            "tags": []
          },
          "execution_count": 52
        }
      ]
    },
    {
      "cell_type": "code",
      "metadata": {
        "id": "6g3Bm7zdwHtp",
        "colab_type": "code",
        "colab": {}
      },
      "source": [
        "# Convert timestamps strings to actual datetime objects\n",
        "ratings['timestamp1'] = pd.to_datetime(ratings['timestamp'])"
      ],
      "execution_count": 0,
      "outputs": []
    },
    {
      "cell_type": "code",
      "metadata": {
        "id": "iYTDoS6kvPCd",
        "colab_type": "code",
        "outputId": "9cf5d908-88a3-4c36-a756-9e34f285b764",
        "colab": {
          "base_uri": "https://localhost:8080/",
          "height": 204
        }
      },
      "source": [
        "# verify the data worked.\n",
        "ratings[['timestamp', 'timestamp1']].sample(5)"
      ],
      "execution_count": 54,
      "outputs": [
        {
          "output_type": "execute_result",
          "data": {
            "text/html": [
              "<div>\n",
              "<style scoped>\n",
              "    .dataframe tbody tr th:only-of-type {\n",
              "        vertical-align: middle;\n",
              "    }\n",
              "\n",
              "    .dataframe tbody tr th {\n",
              "        vertical-align: top;\n",
              "    }\n",
              "\n",
              "    .dataframe thead th {\n",
              "        text-align: right;\n",
              "    }\n",
              "</style>\n",
              "<table border=\"1\" class=\"dataframe\">\n",
              "  <thead>\n",
              "    <tr style=\"text-align: right;\">\n",
              "      <th></th>\n",
              "      <th>timestamp</th>\n",
              "      <th>timestamp1</th>\n",
              "    </tr>\n",
              "  </thead>\n",
              "  <tbody>\n",
              "    <tr>\n",
              "      <th>4347</th>\n",
              "      <td>2017-07-27 02:00:03.768137</td>\n",
              "      <td>2017-07-27 02:00:03.768137</td>\n",
              "    </tr>\n",
              "    <tr>\n",
              "      <th>76487</th>\n",
              "      <td>2017-08-28 16:00:03.637494</td>\n",
              "      <td>2017-08-28 16:00:03.637494</td>\n",
              "    </tr>\n",
              "    <tr>\n",
              "      <th>40389</th>\n",
              "      <td>2017-08-15 11:10:04.206111</td>\n",
              "      <td>2017-08-15 11:10:04.206111</td>\n",
              "    </tr>\n",
              "    <tr>\n",
              "      <th>6584</th>\n",
              "      <td>2017-08-01 01:00:03.160610</td>\n",
              "      <td>2017-08-01 01:00:03.160610</td>\n",
              "    </tr>\n",
              "    <tr>\n",
              "      <th>31266</th>\n",
              "      <td>2017-08-12 03:10:03.098917</td>\n",
              "      <td>2017-08-12 03:10:03.098917</td>\n",
              "    </tr>\n",
              "  </tbody>\n",
              "</table>\n",
              "</div>"
            ],
            "text/plain": [
              "                        timestamp                 timestamp1\n",
              "4347   2017-07-27 02:00:03.768137 2017-07-27 02:00:03.768137\n",
              "76487  2017-08-28 16:00:03.637494 2017-08-28 16:00:03.637494\n",
              "40389  2017-08-15 11:10:04.206111 2017-08-15 11:10:04.206111\n",
              "6584   2017-08-01 01:00:03.160610 2017-08-01 01:00:03.160610\n",
              "31266  2017-08-12 03:10:03.098917 2017-08-12 03:10:03.098917"
            ]
          },
          "metadata": {
            "tags": []
          },
          "execution_count": 54
        }
      ]
    },
    {
      "cell_type": "code",
      "metadata": {
        "id": "q-WM4i1JvOJL",
        "colab_type": "code",
        "outputId": "9994d46d-5de8-4b6a-9b9c-2b4d7db8f3e7",
        "colab": {
          "base_uri": "https://localhost:8080/",
          "height": 340
        }
      },
      "source": [
        "# Set the timestamp as the index.\n",
        "ratings.set_index('timestamp1', inplace=True, drop=True)\n",
        "ratings.head()"
      ],
      "execution_count": 55,
      "outputs": [
        {
          "output_type": "execute_result",
          "data": {
            "text/html": [
              "<div>\n",
              "<style scoped>\n",
              "    .dataframe tbody tr th:only-of-type {\n",
              "        vertical-align: middle;\n",
              "    }\n",
              "\n",
              "    .dataframe tbody tr th {\n",
              "        vertical-align: top;\n",
              "    }\n",
              "\n",
              "    .dataframe thead th {\n",
              "        text-align: right;\n",
              "    }\n",
              "</style>\n",
              "<table border=\"1\" class=\"dataframe\">\n",
              "  <thead>\n",
              "    <tr style=\"text-align: right;\">\n",
              "      <th></th>\n",
              "      <th>timestamp</th>\n",
              "      <th>respondents</th>\n",
              "      <th>category</th>\n",
              "      <th>link</th>\n",
              "      <th>average</th>\n",
              "      <th>mean</th>\n",
              "      <th>median</th>\n",
              "      <th>1_votes</th>\n",
              "      <th>2_votes</th>\n",
              "      <th>3_votes</th>\n",
              "      <th>4_votes</th>\n",
              "      <th>5_votes</th>\n",
              "      <th>6_votes</th>\n",
              "      <th>7_votes</th>\n",
              "      <th>8_votes</th>\n",
              "      <th>9_votes</th>\n",
              "      <th>10_votes</th>\n",
              "      <th>1_pct</th>\n",
              "      <th>2_pct</th>\n",
              "      <th>3_pct</th>\n",
              "      <th>4_pct</th>\n",
              "      <th>5_pct</th>\n",
              "      <th>6_pct</th>\n",
              "      <th>7_pct</th>\n",
              "      <th>8_pct</th>\n",
              "      <th>9_pct</th>\n",
              "      <th>10_pct</th>\n",
              "    </tr>\n",
              "    <tr>\n",
              "      <th>timestamp1</th>\n",
              "      <th></th>\n",
              "      <th></th>\n",
              "      <th></th>\n",
              "      <th></th>\n",
              "      <th></th>\n",
              "      <th></th>\n",
              "      <th></th>\n",
              "      <th></th>\n",
              "      <th></th>\n",
              "      <th></th>\n",
              "      <th></th>\n",
              "      <th></th>\n",
              "      <th></th>\n",
              "      <th></th>\n",
              "      <th></th>\n",
              "      <th></th>\n",
              "      <th></th>\n",
              "      <th></th>\n",
              "      <th></th>\n",
              "      <th></th>\n",
              "      <th></th>\n",
              "      <th></th>\n",
              "      <th></th>\n",
              "      <th></th>\n",
              "      <th></th>\n",
              "      <th></th>\n",
              "      <th></th>\n",
              "    </tr>\n",
              "  </thead>\n",
              "  <tbody>\n",
              "    <tr>\n",
              "      <th>2017-07-17 12:28:32.785639</th>\n",
              "      <td>2017-07-17 12:28:32.785639</td>\n",
              "      <td>402</td>\n",
              "      <td>Males</td>\n",
              "      <td>http://www.imdb.com/title/tt6322922/ratings-male</td>\n",
              "      <td>4.6</td>\n",
              "      <td>5.0</td>\n",
              "      <td>2</td>\n",
              "      <td>197</td>\n",
              "      <td>7</td>\n",
              "      <td>7</td>\n",
              "      <td>3</td>\n",
              "      <td>7</td>\n",
              "      <td>7</td>\n",
              "      <td>11</td>\n",
              "      <td>8</td>\n",
              "      <td>20</td>\n",
              "      <td>135</td>\n",
              "      <td>49.0</td>\n",
              "      <td>1.7</td>\n",
              "      <td>1.7</td>\n",
              "      <td>0.7</td>\n",
              "      <td>1.7</td>\n",
              "      <td>1.7</td>\n",
              "      <td>2.7</td>\n",
              "      <td>2.0</td>\n",
              "      <td>5.0</td>\n",
              "      <td>33.6</td>\n",
              "    </tr>\n",
              "    <tr>\n",
              "      <th>2017-07-17 12:28:33.025600</th>\n",
              "      <td>2017-07-17 12:28:33.025600</td>\n",
              "      <td>78</td>\n",
              "      <td>Females</td>\n",
              "      <td>http://www.imdb.com/title/tt6322922/ratings-fe...</td>\n",
              "      <td>6.9</td>\n",
              "      <td>7.7</td>\n",
              "      <td>10</td>\n",
              "      <td>16</td>\n",
              "      <td>1</td>\n",
              "      <td>0</td>\n",
              "      <td>1</td>\n",
              "      <td>1</td>\n",
              "      <td>0</td>\n",
              "      <td>3</td>\n",
              "      <td>4</td>\n",
              "      <td>3</td>\n",
              "      <td>49</td>\n",
              "      <td>20.5</td>\n",
              "      <td>1.3</td>\n",
              "      <td>0.0</td>\n",
              "      <td>1.3</td>\n",
              "      <td>1.3</td>\n",
              "      <td>0.0</td>\n",
              "      <td>3.8</td>\n",
              "      <td>5.1</td>\n",
              "      <td>3.8</td>\n",
              "      <td>62.8</td>\n",
              "    </tr>\n",
              "    <tr>\n",
              "      <th>2017-07-17 12:28:33.273919</th>\n",
              "      <td>2017-07-17 12:28:33.273919</td>\n",
              "      <td>4</td>\n",
              "      <td>Aged under 18</td>\n",
              "      <td>http://www.imdb.com/title/tt6322922/ratings-age_1</td>\n",
              "      <td>4.2</td>\n",
              "      <td>4.2</td>\n",
              "      <td>3</td>\n",
              "      <td>2</td>\n",
              "      <td>0</td>\n",
              "      <td>0</td>\n",
              "      <td>0</td>\n",
              "      <td>1</td>\n",
              "      <td>0</td>\n",
              "      <td>0</td>\n",
              "      <td>0</td>\n",
              "      <td>0</td>\n",
              "      <td>1</td>\n",
              "      <td>50.0</td>\n",
              "      <td>0.0</td>\n",
              "      <td>0.0</td>\n",
              "      <td>0.0</td>\n",
              "      <td>25.0</td>\n",
              "      <td>0.0</td>\n",
              "      <td>0.0</td>\n",
              "      <td>0.0</td>\n",
              "      <td>0.0</td>\n",
              "      <td>25.0</td>\n",
              "    </tr>\n",
              "    <tr>\n",
              "      <th>2017-07-17 12:28:33.495325</th>\n",
              "      <td>2017-07-17 12:28:33.495325</td>\n",
              "      <td>4</td>\n",
              "      <td>Males under 18</td>\n",
              "      <td>http://www.imdb.com/title/tt6322922/ratings-ma...</td>\n",
              "      <td>4.2</td>\n",
              "      <td>4.2</td>\n",
              "      <td>3</td>\n",
              "      <td>2</td>\n",
              "      <td>0</td>\n",
              "      <td>0</td>\n",
              "      <td>0</td>\n",
              "      <td>1</td>\n",
              "      <td>0</td>\n",
              "      <td>0</td>\n",
              "      <td>0</td>\n",
              "      <td>0</td>\n",
              "      <td>1</td>\n",
              "      <td>50.0</td>\n",
              "      <td>0.0</td>\n",
              "      <td>0.0</td>\n",
              "      <td>0.0</td>\n",
              "      <td>25.0</td>\n",
              "      <td>0.0</td>\n",
              "      <td>0.0</td>\n",
              "      <td>0.0</td>\n",
              "      <td>0.0</td>\n",
              "      <td>25.0</td>\n",
              "    </tr>\n",
              "    <tr>\n",
              "      <th>2017-07-17 12:28:33.722849</th>\n",
              "      <td>2017-07-17 12:28:33.722849</td>\n",
              "      <td>130</td>\n",
              "      <td>Aged 18-29</td>\n",
              "      <td>http://www.imdb.com/title/tt6322922/ratings-age_2</td>\n",
              "      <td>6.3</td>\n",
              "      <td>6.5</td>\n",
              "      <td>9</td>\n",
              "      <td>41</td>\n",
              "      <td>0</td>\n",
              "      <td>3</td>\n",
              "      <td>1</td>\n",
              "      <td>2</td>\n",
              "      <td>3</td>\n",
              "      <td>6</td>\n",
              "      <td>4</td>\n",
              "      <td>6</td>\n",
              "      <td>64</td>\n",
              "      <td>31.5</td>\n",
              "      <td>0.0</td>\n",
              "      <td>2.3</td>\n",
              "      <td>0.8</td>\n",
              "      <td>1.5</td>\n",
              "      <td>2.3</td>\n",
              "      <td>4.6</td>\n",
              "      <td>3.1</td>\n",
              "      <td>4.6</td>\n",
              "      <td>49.2</td>\n",
              "    </tr>\n",
              "  </tbody>\n",
              "</table>\n",
              "</div>"
            ],
            "text/plain": [
              "                                             timestamp  ...  10_pct\n",
              "timestamp1                                              ...        \n",
              "2017-07-17 12:28:32.785639  2017-07-17 12:28:32.785639  ...    33.6\n",
              "2017-07-17 12:28:33.025600  2017-07-17 12:28:33.025600  ...    62.8\n",
              "2017-07-17 12:28:33.273919  2017-07-17 12:28:33.273919  ...    25.0\n",
              "2017-07-17 12:28:33.495325  2017-07-17 12:28:33.495325  ...    25.0\n",
              "2017-07-17 12:28:33.722849  2017-07-17 12:28:33.722849  ...    49.2\n",
              "\n",
              "[5 rows x 27 columns]"
            ]
          },
          "metadata": {
            "tags": []
          },
          "execution_count": 55
        }
      ]
    },
    {
      "cell_type": "code",
      "metadata": {
        "id": "8DayRZbOvOCi",
        "colab_type": "code",
        "outputId": "7f637974-bf30-45de-cf8b-c3ab3510e7e8",
        "colab": {
          "base_uri": "https://localhost:8080/",
          "height": 51
        }
      },
      "source": [
        "lastday = ratings['2017-08-29']\n",
        "print(ratings.shape)\n",
        "print(lastday.shape)"
      ],
      "execution_count": 56,
      "outputs": [
        {
          "output_type": "stream",
          "text": [
            "(80053, 27)\n",
            "(2660, 27)\n"
          ],
          "name": "stdout"
        }
      ]
    },
    {
      "cell_type": "code",
      "metadata": {
        "id": "yogfFBnCy2B4",
        "colab_type": "code",
        "outputId": "19d82884-8488-4391-9156-a2196918ef03",
        "colab": {
          "base_uri": "https://localhost:8080/",
          "height": 357
        }
      },
      "source": [
        "# Value counts from lastday category.\n",
        "lastday['category'].value_counts().sort_index()"
      ],
      "execution_count": 57,
      "outputs": [
        {
          "output_type": "execute_result",
          "data": {
            "text/plain": [
              "Aged 18-29            140\n",
              "Aged 30-44            140\n",
              "Aged 45+              140\n",
              "Aged under 18         140\n",
              "Females               140\n",
              "Females Aged 18-29    140\n",
              "Females Aged 30-44    140\n",
              "Females Aged 45+      140\n",
              "Females under 18      140\n",
              "IMDb staff            140\n",
              "IMDb users            140\n",
              "Males                 140\n",
              "Males Aged 18-29      140\n",
              "Males Aged 30-44      140\n",
              "Males Aged 45+        140\n",
              "Males under 18        140\n",
              "Non-US users          140\n",
              "Top 1000 voters       140\n",
              "US users              140\n",
              "Name: category, dtype: int64"
            ]
          },
          "metadata": {
            "tags": []
          },
          "execution_count": 57
        }
      ]
    },
    {
      "cell_type": "code",
      "metadata": {
        "id": "hlkbRi9Oy2mB",
        "colab_type": "code",
        "outputId": "6b8ed4cb-bda9-4a35-ce8e-3fd75922aed6",
        "colab": {
          "base_uri": "https://localhost:8080/",
          "height": 340
        }
      },
      "source": [
        "# Gt the demographic breakdowns for all IMDb users on the last day\n",
        "lastday_filtered = lastday[lastday['category']=='IMDb users']\n",
        "lastday_filtered.tail()"
      ],
      "execution_count": 58,
      "outputs": [
        {
          "output_type": "execute_result",
          "data": {
            "text/html": [
              "<div>\n",
              "<style scoped>\n",
              "    .dataframe tbody tr th:only-of-type {\n",
              "        vertical-align: middle;\n",
              "    }\n",
              "\n",
              "    .dataframe tbody tr th {\n",
              "        vertical-align: top;\n",
              "    }\n",
              "\n",
              "    .dataframe thead th {\n",
              "        text-align: right;\n",
              "    }\n",
              "</style>\n",
              "<table border=\"1\" class=\"dataframe\">\n",
              "  <thead>\n",
              "    <tr style=\"text-align: right;\">\n",
              "      <th></th>\n",
              "      <th>timestamp</th>\n",
              "      <th>respondents</th>\n",
              "      <th>category</th>\n",
              "      <th>link</th>\n",
              "      <th>average</th>\n",
              "      <th>mean</th>\n",
              "      <th>median</th>\n",
              "      <th>1_votes</th>\n",
              "      <th>2_votes</th>\n",
              "      <th>3_votes</th>\n",
              "      <th>4_votes</th>\n",
              "      <th>5_votes</th>\n",
              "      <th>6_votes</th>\n",
              "      <th>7_votes</th>\n",
              "      <th>8_votes</th>\n",
              "      <th>9_votes</th>\n",
              "      <th>10_votes</th>\n",
              "      <th>1_pct</th>\n",
              "      <th>2_pct</th>\n",
              "      <th>3_pct</th>\n",
              "      <th>4_pct</th>\n",
              "      <th>5_pct</th>\n",
              "      <th>6_pct</th>\n",
              "      <th>7_pct</th>\n",
              "      <th>8_pct</th>\n",
              "      <th>9_pct</th>\n",
              "      <th>10_pct</th>\n",
              "    </tr>\n",
              "    <tr>\n",
              "      <th>timestamp1</th>\n",
              "      <th></th>\n",
              "      <th></th>\n",
              "      <th></th>\n",
              "      <th></th>\n",
              "      <th></th>\n",
              "      <th></th>\n",
              "      <th></th>\n",
              "      <th></th>\n",
              "      <th></th>\n",
              "      <th></th>\n",
              "      <th></th>\n",
              "      <th></th>\n",
              "      <th></th>\n",
              "      <th></th>\n",
              "      <th></th>\n",
              "      <th></th>\n",
              "      <th></th>\n",
              "      <th></th>\n",
              "      <th></th>\n",
              "      <th></th>\n",
              "      <th></th>\n",
              "      <th></th>\n",
              "      <th></th>\n",
              "      <th></th>\n",
              "      <th></th>\n",
              "      <th></th>\n",
              "      <th></th>\n",
              "    </tr>\n",
              "  </thead>\n",
              "  <tbody>\n",
              "    <tr>\n",
              "      <th>2017-08-29 22:30:06.423181</th>\n",
              "      <td>2017-08-29 22:30:06.423181</td>\n",
              "      <td>2662</td>\n",
              "      <td>IMDb users</td>\n",
              "      <td>http://www.imdb.com/title/tt6322922/ratings</td>\n",
              "      <td>5.4</td>\n",
              "      <td>5.6</td>\n",
              "      <td>7</td>\n",
              "      <td>1021</td>\n",
              "      <td>69</td>\n",
              "      <td>38</td>\n",
              "      <td>25</td>\n",
              "      <td>55</td>\n",
              "      <td>110</td>\n",
              "      <td>154</td>\n",
              "      <td>147</td>\n",
              "      <td>146</td>\n",
              "      <td>897</td>\n",
              "      <td>38.4</td>\n",
              "      <td>2.6</td>\n",
              "      <td>1.4</td>\n",
              "      <td>0.9</td>\n",
              "      <td>2.1</td>\n",
              "      <td>4.1</td>\n",
              "      <td>5.8</td>\n",
              "      <td>5.5</td>\n",
              "      <td>5.5</td>\n",
              "      <td>33.7</td>\n",
              "    </tr>\n",
              "    <tr>\n",
              "      <th>2017-08-29 22:40:06.233659</th>\n",
              "      <td>2017-08-29 22:40:06.233659</td>\n",
              "      <td>2662</td>\n",
              "      <td>IMDb users</td>\n",
              "      <td>http://www.imdb.com/title/tt6322922/ratings</td>\n",
              "      <td>5.4</td>\n",
              "      <td>5.6</td>\n",
              "      <td>7</td>\n",
              "      <td>1021</td>\n",
              "      <td>69</td>\n",
              "      <td>38</td>\n",
              "      <td>25</td>\n",
              "      <td>55</td>\n",
              "      <td>110</td>\n",
              "      <td>154</td>\n",
              "      <td>147</td>\n",
              "      <td>146</td>\n",
              "      <td>897</td>\n",
              "      <td>38.4</td>\n",
              "      <td>2.6</td>\n",
              "      <td>1.4</td>\n",
              "      <td>0.9</td>\n",
              "      <td>2.1</td>\n",
              "      <td>4.1</td>\n",
              "      <td>5.8</td>\n",
              "      <td>5.5</td>\n",
              "      <td>5.5</td>\n",
              "      <td>33.7</td>\n",
              "    </tr>\n",
              "    <tr>\n",
              "      <th>2017-08-29 22:50:06.592571</th>\n",
              "      <td>2017-08-29 22:50:06.592571</td>\n",
              "      <td>2662</td>\n",
              "      <td>IMDb users</td>\n",
              "      <td>http://www.imdb.com/title/tt6322922/ratings</td>\n",
              "      <td>5.4</td>\n",
              "      <td>5.6</td>\n",
              "      <td>7</td>\n",
              "      <td>1021</td>\n",
              "      <td>69</td>\n",
              "      <td>38</td>\n",
              "      <td>25</td>\n",
              "      <td>55</td>\n",
              "      <td>110</td>\n",
              "      <td>154</td>\n",
              "      <td>147</td>\n",
              "      <td>146</td>\n",
              "      <td>897</td>\n",
              "      <td>38.4</td>\n",
              "      <td>2.6</td>\n",
              "      <td>1.4</td>\n",
              "      <td>0.9</td>\n",
              "      <td>2.1</td>\n",
              "      <td>4.1</td>\n",
              "      <td>5.8</td>\n",
              "      <td>5.5</td>\n",
              "      <td>5.5</td>\n",
              "      <td>33.7</td>\n",
              "    </tr>\n",
              "    <tr>\n",
              "      <th>2017-08-29 23:00:05.829558</th>\n",
              "      <td>2017-08-29 23:00:05.829558</td>\n",
              "      <td>2662</td>\n",
              "      <td>IMDb users</td>\n",
              "      <td>http://www.imdb.com/title/tt6322922/ratings</td>\n",
              "      <td>5.4</td>\n",
              "      <td>5.6</td>\n",
              "      <td>7</td>\n",
              "      <td>1021</td>\n",
              "      <td>69</td>\n",
              "      <td>38</td>\n",
              "      <td>25</td>\n",
              "      <td>55</td>\n",
              "      <td>110</td>\n",
              "      <td>154</td>\n",
              "      <td>147</td>\n",
              "      <td>146</td>\n",
              "      <td>897</td>\n",
              "      <td>38.4</td>\n",
              "      <td>2.6</td>\n",
              "      <td>1.4</td>\n",
              "      <td>0.9</td>\n",
              "      <td>2.1</td>\n",
              "      <td>4.1</td>\n",
              "      <td>5.8</td>\n",
              "      <td>5.5</td>\n",
              "      <td>5.5</td>\n",
              "      <td>33.7</td>\n",
              "    </tr>\n",
              "    <tr>\n",
              "      <th>2017-08-29 23:10:06.218251</th>\n",
              "      <td>2017-08-29 23:10:06.218251</td>\n",
              "      <td>2662</td>\n",
              "      <td>IMDb users</td>\n",
              "      <td>http://www.imdb.com/title/tt6322922/ratings</td>\n",
              "      <td>5.4</td>\n",
              "      <td>5.6</td>\n",
              "      <td>7</td>\n",
              "      <td>1021</td>\n",
              "      <td>69</td>\n",
              "      <td>38</td>\n",
              "      <td>25</td>\n",
              "      <td>55</td>\n",
              "      <td>110</td>\n",
              "      <td>154</td>\n",
              "      <td>147</td>\n",
              "      <td>146</td>\n",
              "      <td>897</td>\n",
              "      <td>38.4</td>\n",
              "      <td>2.6</td>\n",
              "      <td>1.4</td>\n",
              "      <td>0.9</td>\n",
              "      <td>2.1</td>\n",
              "      <td>4.1</td>\n",
              "      <td>5.8</td>\n",
              "      <td>5.5</td>\n",
              "      <td>5.5</td>\n",
              "      <td>33.7</td>\n",
              "    </tr>\n",
              "  </tbody>\n",
              "</table>\n",
              "</div>"
            ],
            "text/plain": [
              "                                             timestamp  ...  10_pct\n",
              "timestamp1                                              ...        \n",
              "2017-08-29 22:30:06.423181  2017-08-29 22:30:06.423181  ...    33.7\n",
              "2017-08-29 22:40:06.233659  2017-08-29 22:40:06.233659  ...    33.7\n",
              "2017-08-29 22:50:06.592571  2017-08-29 22:50:06.592571  ...    33.7\n",
              "2017-08-29 23:00:05.829558  2017-08-29 23:00:05.829558  ...    33.7\n",
              "2017-08-29 23:10:06.218251  2017-08-29 23:10:06.218251  ...    33.7\n",
              "\n",
              "[5 rows x 27 columns]"
            ]
          },
          "metadata": {
            "tags": []
          },
          "execution_count": 58
        }
      ]
    },
    {
      "cell_type": "code",
      "metadata": {
        "id": "Pwh8LnfZy2_o",
        "colab_type": "code",
        "outputId": "748061ee-4484-4f4c-b1bf-d4c25bd48411",
        "colab": {
          "base_uri": "https://localhost:8080/",
          "height": 148
        }
      },
      "source": [
        "# Disaply the last line from the IMDB rating.\n",
        "final = lastday_filtered.tail(1)\n",
        "final"
      ],
      "execution_count": 59,
      "outputs": [
        {
          "output_type": "execute_result",
          "data": {
            "text/html": [
              "<div>\n",
              "<style scoped>\n",
              "    .dataframe tbody tr th:only-of-type {\n",
              "        vertical-align: middle;\n",
              "    }\n",
              "\n",
              "    .dataframe tbody tr th {\n",
              "        vertical-align: top;\n",
              "    }\n",
              "\n",
              "    .dataframe thead th {\n",
              "        text-align: right;\n",
              "    }\n",
              "</style>\n",
              "<table border=\"1\" class=\"dataframe\">\n",
              "  <thead>\n",
              "    <tr style=\"text-align: right;\">\n",
              "      <th></th>\n",
              "      <th>timestamp</th>\n",
              "      <th>respondents</th>\n",
              "      <th>category</th>\n",
              "      <th>link</th>\n",
              "      <th>average</th>\n",
              "      <th>mean</th>\n",
              "      <th>median</th>\n",
              "      <th>1_votes</th>\n",
              "      <th>2_votes</th>\n",
              "      <th>3_votes</th>\n",
              "      <th>4_votes</th>\n",
              "      <th>5_votes</th>\n",
              "      <th>6_votes</th>\n",
              "      <th>7_votes</th>\n",
              "      <th>8_votes</th>\n",
              "      <th>9_votes</th>\n",
              "      <th>10_votes</th>\n",
              "      <th>1_pct</th>\n",
              "      <th>2_pct</th>\n",
              "      <th>3_pct</th>\n",
              "      <th>4_pct</th>\n",
              "      <th>5_pct</th>\n",
              "      <th>6_pct</th>\n",
              "      <th>7_pct</th>\n",
              "      <th>8_pct</th>\n",
              "      <th>9_pct</th>\n",
              "      <th>10_pct</th>\n",
              "    </tr>\n",
              "    <tr>\n",
              "      <th>timestamp1</th>\n",
              "      <th></th>\n",
              "      <th></th>\n",
              "      <th></th>\n",
              "      <th></th>\n",
              "      <th></th>\n",
              "      <th></th>\n",
              "      <th></th>\n",
              "      <th></th>\n",
              "      <th></th>\n",
              "      <th></th>\n",
              "      <th></th>\n",
              "      <th></th>\n",
              "      <th></th>\n",
              "      <th></th>\n",
              "      <th></th>\n",
              "      <th></th>\n",
              "      <th></th>\n",
              "      <th></th>\n",
              "      <th></th>\n",
              "      <th></th>\n",
              "      <th></th>\n",
              "      <th></th>\n",
              "      <th></th>\n",
              "      <th></th>\n",
              "      <th></th>\n",
              "      <th></th>\n",
              "      <th></th>\n",
              "    </tr>\n",
              "  </thead>\n",
              "  <tbody>\n",
              "    <tr>\n",
              "      <th>2017-08-29 23:10:06.218251</th>\n",
              "      <td>2017-08-29 23:10:06.218251</td>\n",
              "      <td>2662</td>\n",
              "      <td>IMDb users</td>\n",
              "      <td>http://www.imdb.com/title/tt6322922/ratings</td>\n",
              "      <td>5.4</td>\n",
              "      <td>5.6</td>\n",
              "      <td>7</td>\n",
              "      <td>1021</td>\n",
              "      <td>69</td>\n",
              "      <td>38</td>\n",
              "      <td>25</td>\n",
              "      <td>55</td>\n",
              "      <td>110</td>\n",
              "      <td>154</td>\n",
              "      <td>147</td>\n",
              "      <td>146</td>\n",
              "      <td>897</td>\n",
              "      <td>38.4</td>\n",
              "      <td>2.6</td>\n",
              "      <td>1.4</td>\n",
              "      <td>0.9</td>\n",
              "      <td>2.1</td>\n",
              "      <td>4.1</td>\n",
              "      <td>5.8</td>\n",
              "      <td>5.5</td>\n",
              "      <td>5.5</td>\n",
              "      <td>33.7</td>\n",
              "    </tr>\n",
              "  </tbody>\n",
              "</table>\n",
              "</div>"
            ],
            "text/plain": [
              "                                             timestamp  ...  10_pct\n",
              "timestamp1                                              ...        \n",
              "2017-08-29 23:10:06.218251  2017-08-29 23:10:06.218251  ...    33.7\n",
              "\n",
              "[1 rows x 27 columns]"
            ]
          },
          "metadata": {
            "tags": []
          },
          "execution_count": 59
        }
      ]
    },
    {
      "cell_type": "code",
      "metadata": {
        "id": "J2vU4ztCy3Nj",
        "colab_type": "code",
        "outputId": "e91c4a85-5c9c-42f4-8663-d3f5d19254fd",
        "colab": {
          "base_uri": "https://localhost:8080/",
          "height": 886
        }
      },
      "source": [
        "#transpose that.\n",
        "final.T"
      ],
      "execution_count": 60,
      "outputs": [
        {
          "output_type": "execute_result",
          "data": {
            "text/html": [
              "<div>\n",
              "<style scoped>\n",
              "    .dataframe tbody tr th:only-of-type {\n",
              "        vertical-align: middle;\n",
              "    }\n",
              "\n",
              "    .dataframe tbody tr th {\n",
              "        vertical-align: top;\n",
              "    }\n",
              "\n",
              "    .dataframe thead th {\n",
              "        text-align: right;\n",
              "    }\n",
              "</style>\n",
              "<table border=\"1\" class=\"dataframe\">\n",
              "  <thead>\n",
              "    <tr style=\"text-align: right;\">\n",
              "      <th>timestamp1</th>\n",
              "      <th>2017-08-29 23:10:06.218251</th>\n",
              "    </tr>\n",
              "  </thead>\n",
              "  <tbody>\n",
              "    <tr>\n",
              "      <th>timestamp</th>\n",
              "      <td>2017-08-29 23:10:06.218251</td>\n",
              "    </tr>\n",
              "    <tr>\n",
              "      <th>respondents</th>\n",
              "      <td>2662</td>\n",
              "    </tr>\n",
              "    <tr>\n",
              "      <th>category</th>\n",
              "      <td>IMDb users</td>\n",
              "    </tr>\n",
              "    <tr>\n",
              "      <th>link</th>\n",
              "      <td>http://www.imdb.com/title/tt6322922/ratings</td>\n",
              "    </tr>\n",
              "    <tr>\n",
              "      <th>average</th>\n",
              "      <td>5.4</td>\n",
              "    </tr>\n",
              "    <tr>\n",
              "      <th>mean</th>\n",
              "      <td>5.6</td>\n",
              "    </tr>\n",
              "    <tr>\n",
              "      <th>median</th>\n",
              "      <td>7</td>\n",
              "    </tr>\n",
              "    <tr>\n",
              "      <th>1_votes</th>\n",
              "      <td>1021</td>\n",
              "    </tr>\n",
              "    <tr>\n",
              "      <th>2_votes</th>\n",
              "      <td>69</td>\n",
              "    </tr>\n",
              "    <tr>\n",
              "      <th>3_votes</th>\n",
              "      <td>38</td>\n",
              "    </tr>\n",
              "    <tr>\n",
              "      <th>4_votes</th>\n",
              "      <td>25</td>\n",
              "    </tr>\n",
              "    <tr>\n",
              "      <th>5_votes</th>\n",
              "      <td>55</td>\n",
              "    </tr>\n",
              "    <tr>\n",
              "      <th>6_votes</th>\n",
              "      <td>110</td>\n",
              "    </tr>\n",
              "    <tr>\n",
              "      <th>7_votes</th>\n",
              "      <td>154</td>\n",
              "    </tr>\n",
              "    <tr>\n",
              "      <th>8_votes</th>\n",
              "      <td>147</td>\n",
              "    </tr>\n",
              "    <tr>\n",
              "      <th>9_votes</th>\n",
              "      <td>146</td>\n",
              "    </tr>\n",
              "    <tr>\n",
              "      <th>10_votes</th>\n",
              "      <td>897</td>\n",
              "    </tr>\n",
              "    <tr>\n",
              "      <th>1_pct</th>\n",
              "      <td>38.4</td>\n",
              "    </tr>\n",
              "    <tr>\n",
              "      <th>2_pct</th>\n",
              "      <td>2.6</td>\n",
              "    </tr>\n",
              "    <tr>\n",
              "      <th>3_pct</th>\n",
              "      <td>1.4</td>\n",
              "    </tr>\n",
              "    <tr>\n",
              "      <th>4_pct</th>\n",
              "      <td>0.9</td>\n",
              "    </tr>\n",
              "    <tr>\n",
              "      <th>5_pct</th>\n",
              "      <td>2.1</td>\n",
              "    </tr>\n",
              "    <tr>\n",
              "      <th>6_pct</th>\n",
              "      <td>4.1</td>\n",
              "    </tr>\n",
              "    <tr>\n",
              "      <th>7_pct</th>\n",
              "      <td>5.8</td>\n",
              "    </tr>\n",
              "    <tr>\n",
              "      <th>8_pct</th>\n",
              "      <td>5.5</td>\n",
              "    </tr>\n",
              "    <tr>\n",
              "      <th>9_pct</th>\n",
              "      <td>5.5</td>\n",
              "    </tr>\n",
              "    <tr>\n",
              "      <th>10_pct</th>\n",
              "      <td>33.7</td>\n",
              "    </tr>\n",
              "  </tbody>\n",
              "</table>\n",
              "</div>"
            ],
            "text/plain": [
              "timestamp1                    2017-08-29 23:10:06.218251\n",
              "timestamp                     2017-08-29 23:10:06.218251\n",
              "respondents                                         2662\n",
              "category                                      IMDb users\n",
              "link         http://www.imdb.com/title/tt6322922/ratings\n",
              "average                                              5.4\n",
              "mean                                                 5.6\n",
              "median                                                 7\n",
              "1_votes                                             1021\n",
              "2_votes                                               69\n",
              "3_votes                                               38\n",
              "4_votes                                               25\n",
              "5_votes                                               55\n",
              "6_votes                                              110\n",
              "7_votes                                              154\n",
              "8_votes                                              147\n",
              "9_votes                                              146\n",
              "10_votes                                             897\n",
              "1_pct                                               38.4\n",
              "2_pct                                                2.6\n",
              "3_pct                                                1.4\n",
              "4_pct                                                0.9\n",
              "5_pct                                                2.1\n",
              "6_pct                                                4.1\n",
              "7_pct                                                5.8\n",
              "8_pct                                                5.5\n",
              "9_pct                                                5.5\n",
              "10_pct                                              33.7"
            ]
          },
          "metadata": {
            "tags": []
          },
          "execution_count": 60
        }
      ]
    },
    {
      "cell_type": "code",
      "metadata": {
        "id": "vN9eDoriy1rJ",
        "colab_type": "code",
        "outputId": "9859d9c3-6550-4e85-b754-bbcb1f80f8bf",
        "colab": {
          "base_uri": "https://localhost:8080/",
          "height": 359
        }
      },
      "source": [
        "pct_columns = ['1_pct', '2_pct', '3_pct', '4_pct', '5_pct',\n",
        "               '6_pct', '7_pct', '8_pct', '9_pct', '10_pct']\n",
        "final[pct_columns].T"
      ],
      "execution_count": 61,
      "outputs": [
        {
          "output_type": "execute_result",
          "data": {
            "text/html": [
              "<div>\n",
              "<style scoped>\n",
              "    .dataframe tbody tr th:only-of-type {\n",
              "        vertical-align: middle;\n",
              "    }\n",
              "\n",
              "    .dataframe tbody tr th {\n",
              "        vertical-align: top;\n",
              "    }\n",
              "\n",
              "    .dataframe thead th {\n",
              "        text-align: right;\n",
              "    }\n",
              "</style>\n",
              "<table border=\"1\" class=\"dataframe\">\n",
              "  <thead>\n",
              "    <tr style=\"text-align: right;\">\n",
              "      <th>timestamp1</th>\n",
              "      <th>2017-08-29 23:10:06.218251</th>\n",
              "    </tr>\n",
              "  </thead>\n",
              "  <tbody>\n",
              "    <tr>\n",
              "      <th>1_pct</th>\n",
              "      <td>38.4</td>\n",
              "    </tr>\n",
              "    <tr>\n",
              "      <th>2_pct</th>\n",
              "      <td>2.6</td>\n",
              "    </tr>\n",
              "    <tr>\n",
              "      <th>3_pct</th>\n",
              "      <td>1.4</td>\n",
              "    </tr>\n",
              "    <tr>\n",
              "      <th>4_pct</th>\n",
              "      <td>0.9</td>\n",
              "    </tr>\n",
              "    <tr>\n",
              "      <th>5_pct</th>\n",
              "      <td>2.1</td>\n",
              "    </tr>\n",
              "    <tr>\n",
              "      <th>6_pct</th>\n",
              "      <td>4.1</td>\n",
              "    </tr>\n",
              "    <tr>\n",
              "      <th>7_pct</th>\n",
              "      <td>5.8</td>\n",
              "    </tr>\n",
              "    <tr>\n",
              "      <th>8_pct</th>\n",
              "      <td>5.5</td>\n",
              "    </tr>\n",
              "    <tr>\n",
              "      <th>9_pct</th>\n",
              "      <td>5.5</td>\n",
              "    </tr>\n",
              "    <tr>\n",
              "      <th>10_pct</th>\n",
              "      <td>33.7</td>\n",
              "    </tr>\n",
              "  </tbody>\n",
              "</table>\n",
              "</div>"
            ],
            "text/plain": [
              "timestamp1  2017-08-29 23:10:06.218251\n",
              "1_pct                             38.4\n",
              "2_pct                              2.6\n",
              "3_pct                              1.4\n",
              "4_pct                              0.9\n",
              "5_pct                              2.1\n",
              "6_pct                              4.1\n",
              "7_pct                              5.8\n",
              "8_pct                              5.5\n",
              "9_pct                              5.5\n",
              "10_pct                            33.7"
            ]
          },
          "metadata": {
            "tags": []
          },
          "execution_count": 61
        }
      ]
    },
    {
      "cell_type": "code",
      "metadata": {
        "id": "o-uHgKIDnCLS",
        "colab_type": "code",
        "outputId": "67f14791-6cc0-4fa8-ff1c-087c06132ebd",
        "colab": {
          "base_uri": "https://localhost:8080/",
          "height": 359
        }
      },
      "source": [
        "# Reset the index so that it's numeric again\n",
        "# and rename the percent column for easy access in our plotting\n",
        "plot_data = final[pct_columns].T\n",
        "plot_data.index=range(1,11)\n",
        "plot_data.columns =['percent']\n",
        "plot_data"
      ],
      "execution_count": 62,
      "outputs": [
        {
          "output_type": "execute_result",
          "data": {
            "text/html": [
              "<div>\n",
              "<style scoped>\n",
              "    .dataframe tbody tr th:only-of-type {\n",
              "        vertical-align: middle;\n",
              "    }\n",
              "\n",
              "    .dataframe tbody tr th {\n",
              "        vertical-align: top;\n",
              "    }\n",
              "\n",
              "    .dataframe thead th {\n",
              "        text-align: right;\n",
              "    }\n",
              "</style>\n",
              "<table border=\"1\" class=\"dataframe\">\n",
              "  <thead>\n",
              "    <tr style=\"text-align: right;\">\n",
              "      <th></th>\n",
              "      <th>percent</th>\n",
              "    </tr>\n",
              "  </thead>\n",
              "  <tbody>\n",
              "    <tr>\n",
              "      <th>1</th>\n",
              "      <td>38.4</td>\n",
              "    </tr>\n",
              "    <tr>\n",
              "      <th>2</th>\n",
              "      <td>2.6</td>\n",
              "    </tr>\n",
              "    <tr>\n",
              "      <th>3</th>\n",
              "      <td>1.4</td>\n",
              "    </tr>\n",
              "    <tr>\n",
              "      <th>4</th>\n",
              "      <td>0.9</td>\n",
              "    </tr>\n",
              "    <tr>\n",
              "      <th>5</th>\n",
              "      <td>2.1</td>\n",
              "    </tr>\n",
              "    <tr>\n",
              "      <th>6</th>\n",
              "      <td>4.1</td>\n",
              "    </tr>\n",
              "    <tr>\n",
              "      <th>7</th>\n",
              "      <td>5.8</td>\n",
              "    </tr>\n",
              "    <tr>\n",
              "      <th>8</th>\n",
              "      <td>5.5</td>\n",
              "    </tr>\n",
              "    <tr>\n",
              "      <th>9</th>\n",
              "      <td>5.5</td>\n",
              "    </tr>\n",
              "    <tr>\n",
              "      <th>10</th>\n",
              "      <td>33.7</td>\n",
              "    </tr>\n",
              "  </tbody>\n",
              "</table>\n",
              "</div>"
            ],
            "text/plain": [
              "    percent\n",
              "1      38.4\n",
              "2       2.6\n",
              "3       1.4\n",
              "4       0.9\n",
              "5       2.1\n",
              "6       4.1\n",
              "7       5.8\n",
              "8       5.5\n",
              "9       5.5\n",
              "10     33.7"
            ]
          },
          "metadata": {
            "tags": []
          },
          "execution_count": 62
        }
      ]
    },
    {
      "cell_type": "code",
      "metadata": {
        "id": "P5_dnZ30zwYO",
        "colab_type": "code",
        "outputId": "fd7fd1a0-4945-495e-f1a7-886e808480ce",
        "colab": {
          "base_uri": "https://localhost:8080/",
          "height": 334
        }
      },
      "source": [
        "fig, ax = plt.subplots()\n",
        "\n",
        "# Figure background color\n",
        "fig.patch.set(facecolor=\"white\")\n",
        "\n",
        "# Set the bars\n",
        "ax.bar(x=range(1,11), height=plot_data['percent'], width=0.9, color=\"#ED713A\")\n",
        "\n",
        "# Axes background color\n",
        "ax.set(facecolor=\"white\")\n",
        "\n",
        "# Set the title and subtitle\n",
        "ax.set_title(\"'An Inconvenient Sequel: Truth To Power' is divisive\", \n",
        "             fontsize=12, \n",
        "             x=.35, \n",
        "             y=1.1,\n",
        "             fontweight='bold')\n",
        "ax.text(s=\"IMDb ratings for the film as of Aug. 29\", fontsize=12, x=-1.25, y=42)\n",
        "\n",
        "# Set the x and y axes labels\n",
        "ax.set_xlabel(\"Rating\", fontsize=9)\n",
        "ax.set_ylabel(\"Percent of total votes\", fontsize=9)\n",
        "\n",
        "# Fix the x an y axis tick marks and grid\n",
        "ax.set_xticklabels(range(1,11), rotation=0)\n",
        "ax.set_xticks(range(1,11))\n",
        "ax.set_yticklabels(range(0,50,10))\n",
        "ax.set_yticks(range(0,50,10));"
      ],
      "execution_count": 63,
      "outputs": [
        {
          "output_type": "display_data",
          "data": {
            "image/png": "[encoded data removed]",
            "text/plain": [
              "<Figure size 432x288 with 1 Axes>"
            ]
          },
          "metadata": {
            "tags": []
          }
        }
      ]
    },
    {
      "cell_type": "code",
      "metadata": {
        "id": "nWQ2XxtBzw7u",
        "colab_type": "code",
        "outputId": "0019f652-3a4e-4ba0-f653-918592711bd3",
        "colab": {
          "base_uri": "https://localhost:8080/",
          "height": 355
        }
      },
      "source": [
        "display(img)"
      ],
      "execution_count": 64,
      "outputs": [
        {
          "output_type": "display_data",
          "data": {
            "text/html": [
              "<img src=\"https://fivethirtyeight.com/wp-content/uploads/2017/09/mehtahickey-inconvenient-0830-1.png\" width=\"400\"/>"
            ],
            "text/plain": [
              "<IPython.core.display.Image object>"
            ]
          },
          "metadata": {
            "tags": []
          }
        }
      ]
    },
    {
      "cell_type": "code",
      "metadata": {
        "id": "cByXpxBDzwSd",
        "colab_type": "code",
        "colab": {}
      },
      "source": [
        "PollData = pd.read_csv('https://raw.githubusercontent.com/VS-Coder/Lambda-School/master/approval_polllist.csv')"
      ],
      "execution_count": 0,
      "outputs": []
    },
    {
      "cell_type": "code",
      "metadata": {
        "id": "8CDhTmcNaYvR",
        "colab_type": "code",
        "colab": {
          "base_uri": "https://localhost:8080/",
          "height": 119
        },
        "outputId": "87f74fb2-c4c4-46de-c1f0-265a8dec9a4c"
      },
      "source": [
        "PollData.columns\n"
      ],
      "execution_count": 69,
      "outputs": [
        {
          "output_type": "execute_result",
          "data": {
            "text/plain": [
              "Index(['president', 'subgroup', 'modeldate', 'startdate', 'enddate',\n",
              "       'pollster', 'grade', 'samplesize', 'population', 'weight', 'influence',\n",
              "       'approve', 'disapprove', 'adjusted_approve', 'adjusted_disapprove',\n",
              "       'multiversions', 'tracking', 'url', 'poll_id', 'question_id',\n",
              "       'createddate', 'timestamp'],\n",
              "      dtype='object')"
            ]
          },
          "metadata": {
            "tags": []
          },
          "execution_count": 69
        }
      ]
    },
    {
      "cell_type": "code",
      "metadata": {
        "id": "3e488LrneRQx",
        "colab_type": "code",
        "colab": {}
      },
      "source": [
        ""
      ],
      "execution_count": 0,
      "outputs": []
    },
    {
      "cell_type": "code",
      "metadata": {
        "id": "x-b9Yx2GQM9U",
        "colab_type": "code",
        "colab": {
          "base_uri": "https://localhost:8080/",
          "height": 204
        },
        "outputId": "3bff7fc3-30f3-48ee-f281-b9a32c2ffd2f"
      },
      "source": [
        "adjApprovalRatings = pd.DataFrame(PollData, columns=['createddate', 'pollster', 'grade', 'weight', 'approve', 'disapprove'])\n",
        "# adjApprovalRatings['createddate2'] = adjApprovalRatings['createddate'].to_datetime(format='%dd/%mm/%YYYY')\n",
        "adjApprovalRatings.head()\n",
        "# adjApprovalRatings.shape"
      ],
      "execution_count": 79,
      "outputs": [
        {
          "output_type": "execute_result",
          "data": {
            "text/html": [
              "<div>\n",
              "<style scoped>\n",
              "    .dataframe tbody tr th:only-of-type {\n",
              "        vertical-align: middle;\n",
              "    }\n",
              "\n",
              "    .dataframe tbody tr th {\n",
              "        vertical-align: top;\n",
              "    }\n",
              "\n",
              "    .dataframe thead th {\n",
              "        text-align: right;\n",
              "    }\n",
              "</style>\n",
              "<table border=\"1\" class=\"dataframe\">\n",
              "  <thead>\n",
              "    <tr style=\"text-align: right;\">\n",
              "      <th></th>\n",
              "      <th>createddate</th>\n",
              "      <th>pollster</th>\n",
              "      <th>grade</th>\n",
              "      <th>weight</th>\n",
              "      <th>approve</th>\n",
              "      <th>disapprove</th>\n",
              "    </tr>\n",
              "  </thead>\n",
              "  <tbody>\n",
              "    <tr>\n",
              "      <th>0</th>\n",
              "      <td>1/23/2017</td>\n",
              "      <td>Morning Consult</td>\n",
              "      <td>B/C</td>\n",
              "      <td>0.696984</td>\n",
              "      <td>46.0</td>\n",
              "      <td>37.0</td>\n",
              "    </tr>\n",
              "    <tr>\n",
              "      <th>1</th>\n",
              "      <td>1/23/2017</td>\n",
              "      <td>Gallup</td>\n",
              "      <td>B</td>\n",
              "      <td>0.241682</td>\n",
              "      <td>45.0</td>\n",
              "      <td>45.0</td>\n",
              "    </tr>\n",
              "    <tr>\n",
              "      <th>2</th>\n",
              "      <td>1/24/2017</td>\n",
              "      <td>Gallup</td>\n",
              "      <td>B</td>\n",
              "      <td>0.223234</td>\n",
              "      <td>45.0</td>\n",
              "      <td>46.0</td>\n",
              "    </tr>\n",
              "    <tr>\n",
              "      <th>3</th>\n",
              "      <td>3/1/2017</td>\n",
              "      <td>Ipsos</td>\n",
              "      <td>B-</td>\n",
              "      <td>0.150785</td>\n",
              "      <td>42.1</td>\n",
              "      <td>45.2</td>\n",
              "    </tr>\n",
              "    <tr>\n",
              "      <th>4</th>\n",
              "      <td>1/25/2017</td>\n",
              "      <td>Gallup</td>\n",
              "      <td>B</td>\n",
              "      <td>0.208659</td>\n",
              "      <td>46.0</td>\n",
              "      <td>45.0</td>\n",
              "    </tr>\n",
              "  </tbody>\n",
              "</table>\n",
              "</div>"
            ],
            "text/plain": [
              "  createddate         pollster grade    weight  approve  disapprove\n",
              "0   1/23/2017  Morning Consult   B/C  0.696984     46.0        37.0\n",
              "1   1/23/2017           Gallup     B  0.241682     45.0        45.0\n",
              "2   1/24/2017           Gallup     B  0.223234     45.0        46.0\n",
              "3    3/1/2017            Ipsos    B-  0.150785     42.1        45.2\n",
              "4   1/25/2017           Gallup     B  0.208659     46.0        45.0"
            ]
          },
          "metadata": {
            "tags": []
          },
          "execution_count": 79
        }
      ]
    },
    {
      "cell_type": "code",
      "metadata": {
        "id": "Lq3LchufQNSk",
        "colab_type": "code",
        "colab": {}
      },
      "source": [
        "# adjApprovalRatings['createddate2'] = adjApprovalRatings['createddate'].to_datetime(format='%dd/%mm/%YYYY')"
      ],
      "execution_count": 0,
      "outputs": []
    },
    {
      "cell_type": "code",
      "metadata": {
        "id": "Ygg5Vq6TevQr",
        "colab_type": "code",
        "colab": {}
      },
      "source": [
        "plotCols = adjApprovalRatings[['createddate', 'approve', 'disapprove']]"
      ],
      "execution_count": 0,
      "outputs": []
    },
    {
      "cell_type": "code",
      "metadata": {
        "id": "6K5-rmWZfLC3",
        "colab_type": "code",
        "colab": {
          "base_uri": "https://localhost:8080/",
          "height": 204
        },
        "outputId": "c132b69a-aab2-4ec6-b784-5a4254edf15f"
      },
      "source": [
        "plotCols.head()\n"
      ],
      "execution_count": 85,
      "outputs": [
        {
          "output_type": "execute_result",
          "data": {
            "text/html": [
              "<div>\n",
              "<style scoped>\n",
              "    .dataframe tbody tr th:only-of-type {\n",
              "        vertical-align: middle;\n",
              "    }\n",
              "\n",
              "    .dataframe tbody tr th {\n",
              "        vertical-align: top;\n",
              "    }\n",
              "\n",
              "    .dataframe thead th {\n",
              "        text-align: right;\n",
              "    }\n",
              "</style>\n",
              "<table border=\"1\" class=\"dataframe\">\n",
              "  <thead>\n",
              "    <tr style=\"text-align: right;\">\n",
              "      <th></th>\n",
              "      <th>createddate</th>\n",
              "      <th>approve</th>\n",
              "      <th>disapprove</th>\n",
              "    </tr>\n",
              "  </thead>\n",
              "  <tbody>\n",
              "    <tr>\n",
              "      <th>0</th>\n",
              "      <td>1/23/2017</td>\n",
              "      <td>46.0</td>\n",
              "      <td>37.0</td>\n",
              "    </tr>\n",
              "    <tr>\n",
              "      <th>1</th>\n",
              "      <td>1/23/2017</td>\n",
              "      <td>45.0</td>\n",
              "      <td>45.0</td>\n",
              "    </tr>\n",
              "    <tr>\n",
              "      <th>2</th>\n",
              "      <td>1/24/2017</td>\n",
              "      <td>45.0</td>\n",
              "      <td>46.0</td>\n",
              "    </tr>\n",
              "    <tr>\n",
              "      <th>3</th>\n",
              "      <td>3/1/2017</td>\n",
              "      <td>42.1</td>\n",
              "      <td>45.2</td>\n",
              "    </tr>\n",
              "    <tr>\n",
              "      <th>4</th>\n",
              "      <td>1/25/2017</td>\n",
              "      <td>46.0</td>\n",
              "      <td>45.0</td>\n",
              "    </tr>\n",
              "  </tbody>\n",
              "</table>\n",
              "</div>"
            ],
            "text/plain": [
              "  createddate  approve  disapprove\n",
              "0   1/23/2017     46.0        37.0\n",
              "1   1/23/2017     45.0        45.0\n",
              "2   1/24/2017     45.0        46.0\n",
              "3    3/1/2017     42.1        45.2\n",
              "4   1/25/2017     46.0        45.0"
            ]
          },
          "metadata": {
            "tags": []
          },
          "execution_count": 85
        }
      ]
    },
    {
      "cell_type": "code",
      "metadata": {
        "id": "5DFZWJTNsuUe",
        "colab_type": "code",
        "colab": {
          "base_uri": "https://localhost:8080/",
          "height": 221
        },
        "outputId": "32d76094-5c32-48cf-cb12-06c207d832bf"
      },
      "source": [
        "pd.to_datetime(plotCols['createddate'], infer_datetime_format=True)"
      ],
      "execution_count": 100,
      "outputs": [
        {
          "output_type": "execute_result",
          "data": {
            "text/plain": [
              "0       2017-01-23\n",
              "1       2017-01-23\n",
              "2       2017-01-24\n",
              "3       2017-03-01\n",
              "4       2017-01-25\n",
              "           ...    \n",
              "11964   2020-05-13\n",
              "11965   2020-05-13\n",
              "11966   2020-05-15\n",
              "11967   2020-05-14\n",
              "11968   2020-05-15\n",
              "Name: createddate, Length: 11969, dtype: datetime64[ns]"
            ]
          },
          "metadata": {
            "tags": []
          },
          "execution_count": 100
        }
      ]
    },
    {
      "cell_type": "code",
      "metadata": {
        "id": "lMcuxEiCuI-V",
        "colab_type": "code",
        "colab": {}
      },
      "source": [
        "plotCols['newcreatedate'] = newDate"
      ],
      "execution_count": 0,
      "outputs": []
    },
    {
      "cell_type": "code",
      "metadata": {
        "id": "hJGYVttPvKjk",
        "colab_type": "code",
        "colab": {
          "base_uri": "https://localhost:8080/",
          "height": 204
        },
        "outputId": "e57d85ae-4bcf-497b-ac48-ce4f9e87e248"
      },
      "source": [
        "plotCols.head()"
      ],
      "execution_count": 102,
      "outputs": [
        {
          "output_type": "execute_result",
          "data": {
            "text/html": [
              "<div>\n",
              "<style scoped>\n",
              "    .dataframe tbody tr th:only-of-type {\n",
              "        vertical-align: middle;\n",
              "    }\n",
              "\n",
              "    .dataframe tbody tr th {\n",
              "        vertical-align: top;\n",
              "    }\n",
              "\n",
              "    .dataframe thead th {\n",
              "        text-align: right;\n",
              "    }\n",
              "</style>\n",
              "<table border=\"1\" class=\"dataframe\">\n",
              "  <thead>\n",
              "    <tr style=\"text-align: right;\">\n",
              "      <th></th>\n",
              "      <th>createddate</th>\n",
              "      <th>approve</th>\n",
              "      <th>disapprove</th>\n",
              "      <th>Newcreateddate</th>\n",
              "      <th>newDate</th>\n",
              "      <th>newcreatedate</th>\n",
              "    </tr>\n",
              "  </thead>\n",
              "  <tbody>\n",
              "    <tr>\n",
              "      <th>0</th>\n",
              "      <td>1/23/2017</td>\n",
              "      <td>46.0</td>\n",
              "      <td>37.0</td>\n",
              "      <td>2017-01-23</td>\n",
              "      <td>2017-01-23</td>\n",
              "      <td>2017-01-23</td>\n",
              "    </tr>\n",
              "    <tr>\n",
              "      <th>1</th>\n",
              "      <td>1/23/2017</td>\n",
              "      <td>45.0</td>\n",
              "      <td>45.0</td>\n",
              "      <td>2017-01-23</td>\n",
              "      <td>2017-01-23</td>\n",
              "      <td>2017-01-23</td>\n",
              "    </tr>\n",
              "    <tr>\n",
              "      <th>2</th>\n",
              "      <td>1/24/2017</td>\n",
              "      <td>45.0</td>\n",
              "      <td>46.0</td>\n",
              "      <td>2017-01-24</td>\n",
              "      <td>2017-01-24</td>\n",
              "      <td>2017-01-24</td>\n",
              "    </tr>\n",
              "    <tr>\n",
              "      <th>3</th>\n",
              "      <td>3/1/2017</td>\n",
              "      <td>42.1</td>\n",
              "      <td>45.2</td>\n",
              "      <td>2017-03-01</td>\n",
              "      <td>2017-03-01</td>\n",
              "      <td>2017-03-01</td>\n",
              "    </tr>\n",
              "    <tr>\n",
              "      <th>4</th>\n",
              "      <td>1/25/2017</td>\n",
              "      <td>46.0</td>\n",
              "      <td>45.0</td>\n",
              "      <td>2017-01-25</td>\n",
              "      <td>2017-01-25</td>\n",
              "      <td>2017-01-25</td>\n",
              "    </tr>\n",
              "  </tbody>\n",
              "</table>\n",
              "</div>"
            ],
            "text/plain": [
              "  createddate  approve  disapprove Newcreateddate    newDate newcreatedate\n",
              "0   1/23/2017     46.0        37.0     2017-01-23 2017-01-23    2017-01-23\n",
              "1   1/23/2017     45.0        45.0     2017-01-23 2017-01-23    2017-01-23\n",
              "2   1/24/2017     45.0        46.0     2017-01-24 2017-01-24    2017-01-24\n",
              "3    3/1/2017     42.1        45.2     2017-03-01 2017-03-01    2017-03-01\n",
              "4   1/25/2017     46.0        45.0     2017-01-25 2017-01-25    2017-01-25"
            ]
          },
          "metadata": {
            "tags": []
          },
          "execution_count": 102
        }
      ]
    },
    {
      "cell_type": "code",
      "metadata": {
        "id": "sk-kqdJdfK21",
        "colab_type": "code",
        "colab": {
          "base_uri": "https://localhost:8080/",
          "height": 340
        },
        "outputId": "0c636123-2106-4bcd-9d1c-2e88e1a69792"
      },
      "source": [
        "# groupby createddate and display approve and disapprove.\n",
        "plt.style.use('fivethirtyeight')\n",
        "plotCols.groupby('disapprove')['newcreatedate'].plot(kind='line', figsize=(12,5))\n",
        "plotCols.groupby('approve')['newcreatedate'].plot(kind='line', figsize=(12,5));"
      ],
      "execution_count": 110,
      "outputs": [
        {
          "output_type": "display_data",
          "data": {
            "image/png": "[encoded data removed]",
            "text/plain": [
              "<Figure size 864x360 with 1 Axes>"
            ]
          },
          "metadata": {
            "tags": []
          }
        }
      ]
    },
    {
      "cell_type": "code",
      "metadata": {
        "id": "Oa7VH_lAfRCY",
        "colab_type": "code",
        "colab": {}
      },
      "source": [
        ""
      ],
      "execution_count": 0,
      "outputs": []
    },
    {
      "cell_type": "code",
      "metadata": {
        "id": "Z7pACNXPfRpw",
        "colab_type": "code",
        "colab": {}
      },
      "source": [
        ""
      ],
      "execution_count": 0,
      "outputs": []
    },
    {
      "cell_type": "markdown",
      "metadata": {
        "id": "0wSrBzmJyWaV",
        "colab_type": "text"
      },
      "source": [
        "# STRETCH OPTIONS\n",
        "\n",
        "### 1) Reproduce one of the following using the matplotlib or seaborn libraries:\n",
        "\n",
        "- [thanksgiving-2015](https://fivethirtyeight.com/features/heres-what-your-part-of-america-eats-on-thanksgiving/) \n",
        "- [candy-power-ranking](https://fivethirtyeight.com/features/the-ultimate-halloween-candy-power-ranking/) \n",
        "- or another example of your choice!\n",
        "\n",
        "### 2) Make more charts!\n",
        "\n",
        "Choose a chart you want to make, from [Visual Vocabulary - Vega Edition](http://ft.com/vocabulary).\n",
        "\n",
        "Find the chart in an example gallery of a Python data visualization library:\n",
        "- [Seaborn](http://seaborn.pydata.org/examples/index.html)\n",
        "- [Altair](https://altair-viz.github.io/gallery/index.html)\n",
        "- [Matplotlib](https://matplotlib.org/gallery.html)\n",
        "- [Pandas](https://pandas.pydata.org/pandas-docs/stable/visualization.html)\n",
        "\n",
        "Reproduce the chart. [Optionally, try the \"Ben Franklin Method.\"](https://docs.google.com/document/d/1ubOw9B3Hfip27hF2ZFnW3a3z9xAgrUDRReOEo-FHCVs/edit) If you want, experiment and make changes.\n",
        "\n",
        "Take notes. Consider sharing your work with your cohort!"
      ]
    },
    {
      "cell_type": "code",
      "metadata": {
        "id": "5dcskTlvztOS",
        "colab_type": "code",
        "colab": {}
      },
      "source": [
        ""
      ],
      "execution_count": 0,
      "outputs": []
    },
    {
      "cell_type": "code",
      "metadata": {
        "id": "dRJkKftiy5BJ",
        "colab_type": "code",
        "colab": {}
      },
      "source": [
        "# More Work Here"
      ],
      "execution_count": 0,
      "outputs": []
    }
  ]
}